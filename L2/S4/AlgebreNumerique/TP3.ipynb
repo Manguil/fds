{
 "cells": [
  {
   "cell_type": "code",
   "execution_count": 20,
   "id": "7679e482-7c64-4045-bcf6-ace302343a9b",
   "metadata": {},
   "outputs": [],
   "source": [
    "import numpy as np"
   ]
  },
  {
   "cell_type": "markdown",
   "id": "ff53c967-1948-4f36-84d9-5b5b65258033",
   "metadata": {},
   "source": [
    "Premier exemple de décomposition $LU$."
   ]
  },
  {
   "cell_type": "code",
   "execution_count": 21,
   "id": "ff3cc2d8-d41d-4f87-9add-10e3b4c942e9",
   "metadata": {},
   "outputs": [
    {
     "name": "stdout",
     "output_type": "stream",
     "text": [
      "U1=\n",
      " [[ 1.  2. -1.]\n",
      " [ 0. -3.  3.]\n",
      " [ 0.  2.  0.]]\n",
      "Decomposition LU pour A :\n",
      " L=\n",
      " [[ 1.          0.          0.        ]\n",
      " [ 2.          1.          0.        ]\n",
      " [-1.         -0.66666667  1.        ]] \n",
      " U=\n",
      " [[ 1.  2. -1.]\n",
      " [ 0. -3.  3.]\n",
      " [ 0.  0.  2.]]\n"
     ]
    }
   ],
   "source": [
    "# illustration de la methode LU\n",
    "# nettoyage de la premiere colonne\n",
    "A=np.array([[1, 2, -1],[ 2, 1, 1],[ -1, 0, 1]])\n",
    "M1=np.array([[ 1, 0, 0], [-A[1][0]/A[0][0], 1, 0],[-A[2][0]/A[0][0] , 0, 1]])\n",
    "U1= M1@A\n",
    "print('U1=\\n',U1)\n",
    "#nettoyage de la deuxieme colonne\n",
    "M2=np.array([[1, 0 ,0],[0, 1, 0],[0 ,-U1[2][1]/U1[1][1], 1]])\n",
    "U2= M2@U1\n",
    "#inverses des manipulations de lignes\n",
    "L1=np.linalg.inv(M1)\n",
    "L2=np.linalg.inv(M2)\n",
    "# factorisation LU\n",
    "U=U2\n",
    "L=L1@L2\n",
    "print('Decomposition LU pour A :\\n','L=\\n',L,'\\n U=\\n',U)\n",
    "\n"
   ]
  },
  {
   "cell_type": "markdown",
   "id": "1fb4ac8c",
   "metadata": {},
   "source": [
    "Exercice 1"
   ]
  },
  {
   "cell_type": "code",
   "execution_count": null,
   "id": "3a852300",
   "metadata": {},
   "outputs": [],
   "source": [
    "# illustration de la methode LU\n",
    "# nettoyage de la premiere colonne\n",
    "A=np.array([[3, 2, 0, 0],[1, 4, 1, 3],[2, 0, 3, 0],[1, 2, 1, 0]])\n",
    "M1=np.array([[ 1, 0, 0], [-A[1][0]/A[0][0], 1, 0],[-A[2][0]/A[0][0] , 0, 1]])\n",
    "U1= M1@A\n",
    "print('U1=\\n',U1)\n",
    "#nettoyage de la deuxieme colonne\n",
    "M2=np.array([[1, 0 ,0],[0, 1, 0],[0 ,-U1[2][1]/U1[1][1], 1]])\n",
    "U2= M2@U1\n",
    "#inverses des manipulations de lignes\n",
    "L1=np.linalg.inv(M1)\n",
    "L2=np.linalg.inv(M2)\n",
    "# factorisation LU\n",
    "U=U2\n",
    "L=L1@L2\n",
    "print('Decomposition LU pour A :\\n','L=\\n',L,'\\n U=\\n',U)"
   ]
  },
  {
   "cell_type": "markdown",
   "id": "faee9dcc",
   "metadata": {},
   "source": [
    "Exercice 2"
   ]
  },
  {
   "cell_type": "code",
   "execution_count": null,
   "id": "fae7b146",
   "metadata": {},
   "outputs": [],
   "source": []
  },
  {
   "cell_type": "markdown",
   "id": "4eb85272",
   "metadata": {},
   "source": [
    "Quand le pivot devient trop petit."
   ]
  },
  {
   "cell_type": "code",
   "execution_count": 22,
   "id": "8a5e344c",
   "metadata": {},
   "outputs": [
    {
     "name": "stdout",
     "output_type": "stream",
     "text": [
      "[0. 1.] [1. 1.]\n"
     ]
    }
   ],
   "source": [
    "a=1e-17\n",
    "A=np.array([[a, 1],[1, 1]])\n",
    "b= np.array([1,2])\n",
    "M1=np.array([[1, 0],[-a**(-1), 1]])\n",
    "U1= M1@A\n",
    "# U1x=b1\n",
    "b1=M1@b\n",
    "#solution après factorisation\n",
    "x1=np.linalg.solve(U1,b1)\n",
    "#solution directe\n",
    "x=np.linalg.solve(A,b)\n",
    "print(x1,x)"
   ]
  },
  {
   "cell_type": "markdown",
   "id": "4c7bbcb3",
   "metadata": {},
   "source": [
    "Exercice 3"
   ]
  },
  {
   "cell_type": "code",
   "execution_count": null,
   "id": "c2e8da41",
   "metadata": {},
   "outputs": [],
   "source": []
  },
  {
   "cell_type": "markdown",
   "id": "4722655d",
   "metadata": {},
   "source": [
    "### Avec scipy"
   ]
  },
  {
   "cell_type": "code",
   "execution_count": 23,
   "id": "70b60d00",
   "metadata": {},
   "outputs": [
    {
     "ename": "ModuleNotFoundError",
     "evalue": "No module named 'scipy'",
     "output_type": "error",
     "traceback": [
      "\u001b[1;31m---------------------------------------------------------------------------\u001b[0m",
      "\u001b[1;31mModuleNotFoundError\u001b[0m                       Traceback (most recent call last)",
      "\u001b[1;32md:\\Manguil\\Documents\\fds\\L2\\S4\\AlgebreNumerique\\TP3.ipynb Cellule 13\u001b[0m in \u001b[0;36m<cell line: 1>\u001b[1;34m()\u001b[0m\n\u001b[1;32m----> <a href='vscode-notebook-cell:/d%3A/Manguil/Documents/fds/L2/S4/AlgebreNumerique/TP3.ipynb#X15sZmlsZQ%3D%3D?line=0'>1</a>\u001b[0m \u001b[39mimport\u001b[39;00m \u001b[39mscipy\u001b[39;00m\n\u001b[0;32m      <a href='vscode-notebook-cell:/d%3A/Manguil/Documents/fds/L2/S4/AlgebreNumerique/TP3.ipynb#X15sZmlsZQ%3D%3D?line=1'>2</a>\u001b[0m scipy\u001b[39m.\u001b[39mlinalg\u001b[39m.\u001b[39mlu(A)\n",
      "\u001b[1;31mModuleNotFoundError\u001b[0m: No module named 'scipy'"
     ]
    }
   ],
   "source": [
    "import scipy\n",
    "scipy.linalg.lu(A)"
   ]
  }
 ],
 "metadata": {
  "kernelspec": {
   "display_name": "Python 3",
   "language": "python",
   "name": "python3"
  },
  "language_info": {
   "codemirror_mode": {
    "name": "ipython",
    "version": 3
   },
   "file_extension": ".py",
   "mimetype": "text/x-python",
   "name": "python",
   "nbconvert_exporter": "python",
   "pygments_lexer": "ipython3",
   "version": "3.10.9"
  },
  "vscode": {
   "interpreter": {
    "hash": "9cb8d6d742562225b9104636960d7a1e98f98eaf4a003080384b6630fecb724b"
   }
  }
 },
 "nbformat": 4,
 "nbformat_minor": 5
}
