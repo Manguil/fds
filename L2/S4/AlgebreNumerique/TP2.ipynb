{
 "cells": [
  {
   "cell_type": "markdown",
   "metadata": {},
   "source": [
    "### Exo 1:"
   ]
  },
  {
   "cell_type": "code",
   "execution_count": 2,
   "metadata": {},
   "outputs": [
    {
     "name": "stdout",
     "output_type": "stream",
     "text": [
      "4000002.0003309543\n"
     ]
    }
   ],
   "source": [
    "import numpy as np\n",
    "\n",
    "A = np.array([[1,1],[1,1.000001]])\n",
    "print(np.linalg.cond(A))"
   ]
  },
  {
   "cell_type": "markdown",
   "metadata": {},
   "source": [
    "### Exo 2"
   ]
  },
  {
   "cell_type": "code",
   "execution_count": 15,
   "metadata": {},
   "outputs": [
    {
     "name": "stdout",
     "output_type": "stream",
     "text": [
      "275848.64261081285\n",
      "[1. 1. 1.]\n",
      "[  7.9  -20.95   1.45]\n"
     ]
    }
   ],
   "source": [
    "B = np.array([[-149, -50, -154], [537, 180, 546],[-27,-9, -25]])\n",
    "print(np.linalg.cond(B))\n",
    "\n",
    "C = B.dot(np.array([1,1, 1]))\n",
    "\n",
    "print(np.linalg.solve(B,C))\n",
    "\n",
    "print(np.linalg.solve(B,C+np.array([0.1,0,0])))\n"
   ]
  },
  {
   "cell_type": "markdown",
   "metadata": {},
   "source": [
    "### Exo 3"
   ]
  },
  {
   "cell_type": "code",
   "execution_count": 35,
   "metadata": {},
   "outputs": [
    {
     "data": {
      "image/png": "[encoded data removed]",
      "text/plain": [
       "<Figure size 432x288 with 1 Axes>"
      ]
     },
     "metadata": {
      "needs_background": "light"
     },
     "output_type": "display_data"
    }
   ],
   "source": [
    "from scipy.linalg import hilbert\n",
    "import matplotlib.pyplot as plt\n",
    "\n",
    "cond = []\n",
    "for i in range(2,21):\n",
    "    H = hilbert(i)\n",
    "    cond.append(np.log10(np.linalg.cond(H)))\n",
    "\n",
    "x = np.linspace(2,20,19)\n",
    "plt.title(\"log du conditionnement de H en fonction de n\")\n",
    "plt.plot(x, cond)\n",
    "plt.show()\n"
   ]
  },
  {
   "cell_type": "code",
   "execution_count": 39,
   "metadata": {},
   "outputs": [
    {
     "name": "stdout",
     "output_type": "stream",
     "text": [
      "[ 1.00000012  0.99998156  1.00071382  0.9880622   1.10766599  0.4135802\n",
      "  3.0537679  -3.7792483   8.46721034 -6.74190866  6.10775392 -0.94089177\n",
      "  1.32331281]\n",
      "[1.81383012e+00 3.96833076e-01 4.90294194e-02 4.34875507e-03\n",
      " 2.95177714e-04 1.56237036e-05 6.46641856e-07 2.07632142e-08\n",
      " 5.07655181e-10 9.14127741e-12 1.14349061e-13 8.88380676e-16\n",
      " 2.73725906e-18]\n"
     ]
    }
   ],
   "source": [
    "H13 = hilbert(13)\n",
    "b = H13.dot(np.ones(13))\n",
    "print(np.linalg.solve(H13, b))\n",
    "\n",
    "print(np.linalg.eig(H13)[0])"
   ]
  },
  {
   "cell_type": "markdown",
   "metadata": {},
   "source": [
    "### Exo 4"
   ]
  },
  {
   "cell_type": "code",
   "execution_count": 43,
   "metadata": {},
   "outputs": [
    {
     "name": "stdout",
     "output_type": "stream",
     "text": [
      "19697715603.592205\n",
      "[-4.76837158e+03  4.44444444e+09  1.00000000e+10]\n"
     ]
    }
   ],
   "source": [
    "A = np.array([[10**(-10), 0.9, -0.4],\n",
    "                [0, 0.9, -0.4],\n",
    "                [0 ,0 ,10**(-10)]])\n",
    "\n",
    "B = np.array([0,0,1])\n",
    "\n",
    "cond = np.linalg.cond(A)\n",
    "print(cond)\n",
    "\n",
    "print(np.linalg.solve(A,B))\n"
   ]
  },
  {
   "cell_type": "markdown",
   "metadata": {},
   "source": [
    "### Exo 5"
   ]
  },
  {
   "cell_type": "code",
   "execution_count": null,
   "metadata": {},
   "outputs": [],
   "source": [
    "n = 2\n",
    "A = (1/(1/n+1)**2)*tridiag(-1, 2, -1)"
   ]
  }
 ],
 "metadata": {
  "kernelspec": {
   "display_name": "Python 3.10.6 64-bit",
   "language": "python",
   "name": "python3"
  },
  "language_info": {
   "codemirror_mode": {
    "name": "ipython",
    "version": 3
   },
   "file_extension": ".py",
   "mimetype": "text/x-python",
   "name": "python",
   "nbconvert_exporter": "python",
   "pygments_lexer": "ipython3",
   "version": "3.10.6"
  },
  "orig_nbformat": 4,
  "vscode": {
   "interpreter": {
    "hash": "e7370f93d1d0cde622a1f8e1c04877d8463912d04d973331ad4851f04de6915a"
   }
  }
 },
 "nbformat": 4,
 "nbformat_minor": 2
}
