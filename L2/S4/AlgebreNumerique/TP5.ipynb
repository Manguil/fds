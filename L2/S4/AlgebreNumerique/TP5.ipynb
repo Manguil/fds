{
 "cells": [
  {
   "cell_type": "code",
   "execution_count": 42,
   "id": "7679e482-7c64-4045-bcf6-ace302343a9b",
   "metadata": {},
   "outputs": [],
   "source": [
    "import numpy as np\n",
    "import scipy as sp"
   ]
  },
  {
   "cell_type": "markdown",
   "id": "ff53c967-1948-4f36-84d9-5b5b65258033",
   "metadata": {},
   "source": [
    "Définition de la fonction Choleski"
   ]
  },
  {
   "cell_type": "code",
   "execution_count": 43,
   "id": "1029f5f4-e8e5-4aec-87f5-859afc6cd408",
   "metadata": {},
   "outputs": [],
   "source": [
    "def Choleski_i1(A, H, i):\n",
    "    return (1 / H[1, 1]) * A[i, 1]\n",
    "\n",
    "def Choleski_ij(A, H, i, j):\n",
    "    return (1/ H[j,j]) * (A[i,j] - \n",
    "                        (sum( H[i,k] * H[j,k]\n",
    "                             for k in range(1, j-1)))\n",
    "                       )\n",
    "\n",
    "                        \n",
    "def Choleski_ii(A, H, i):\n",
    "    return np.sqrt(\n",
    "        A[i,i] - (sum( (H[i,k])**2\n",
    "                             for k in range(1, i-1)))\n",
    "    )\n",
    "\n",
    "def Choleski(A):\n",
    "    if not isinstance(A,np.ndarray): #est-ce que A est une matrice\n",
    "        return \"l'argument doit être une matrice\"\n",
    "    \n",
    "    if A.shape[0]!=A.shape[1]: #est-ce que A est carrée\n",
    "        return \"l'argument doit être une matrice carrée\"\n",
    "    if (A-A.T).any()!=np.zeros(A.shape).any(): #est-ce que A est symmétrique\n",
    "        return \"l'argument doit être une matrice symétrique\"\n",
    "    L=np.zeros(A.shape)\n",
    "    \n",
    "    \n",
    "    for e in range(A.shape[0]):\n",
    "        if A[e,e] < 0:\n",
    "            return \"L'argument n'est pas une matrice définie positive\"\n",
    "    \n",
    "    H = sp.linalg.hilbert(A.shape[0])\n",
    "    L[0,0]=np.sqrt(A[0,0])\n",
    "    for i in range (A.shape[0]):\n",
    "        for j in range (i):\n",
    "            if j == 1:\n",
    "                L[i,j] = Choleski_i1(A, H, i)\n",
    "            else:\n",
    "                L[i,j] = Choleski_ij(A, H, i, j)\n",
    "        L[i,i] = Choleski_ii(A, H, i)\n",
    "    return L\n"
   ]
  },
  {
   "cell_type": "markdown",
   "id": "f175fbf7-b6d9-4980-8b21-79f7cb697908",
   "metadata": {},
   "source": [
    "On définit la matrice de Hilbert de taille 5 puis on lui applique la fonction Choleski."
   ]
  },
  {
   "cell_type": "code",
   "execution_count": 44,
   "id": "aa5b3b4b-eef9-40df-960b-92bb20c9431c",
   "metadata": {},
   "outputs": [],
   "source": [
    "from scipy.linalg import hilbert"
   ]
  },
  {
   "cell_type": "code",
   "execution_count": 45,
   "id": "ae3e5cfd-7e0c-48f7-9fc1-f6a67578ff40",
   "metadata": {},
   "outputs": [],
   "source": [
    "A = hilbert(5)\n",
    "C = Choleski(A)"
   ]
  },
  {
   "cell_type": "code",
   "execution_count": 46,
   "id": "632d2c91-1ddd-4d17-9164-45105c6706ff",
   "metadata": {},
   "outputs": [
    {
     "name": "stdout",
     "output_type": "stream",
     "text": [
      "[[1.         0.5        0.33333333 0.25       0.2       ]\n",
      " [0.5        0.58333333 0.59967937 0.47141016 0.38867513]\n",
      " [0.33333333 0.59967937 0.87361111 0.90601133 0.76110495]\n",
      " [0.25       0.47141016 0.90601133 1.21980159 1.15102925]\n",
      " [0.2        0.38867513 0.76110495 1.15102925 1.27486536]]\n",
      "[[1.         0.5        0.33333333 0.25       0.2       ]\n",
      " [0.5        0.33333333 0.25       0.2        0.16666667]\n",
      " [0.33333333 0.25       0.2        0.16666667 0.14285714]\n",
      " [0.25       0.2        0.16666667 0.14285714 0.125     ]\n",
      " [0.2        0.16666667 0.14285714 0.125      0.11111111]]\n"
     ]
    }
   ],
   "source": [
    "print(C@np.transpose(C))\n",
    "print(A)"
   ]
  },
  {
   "cell_type": "code",
   "execution_count": 47,
   "id": "9211eeeb-a1e9-45f8-8e63-ef1e00e8936b",
   "metadata": {},
   "outputs": [
    {
     "data": {
      "text/plain": [
       "array([[ 1,  2,  3,  4],\n",
       "       [ 2,  5,  6,  7],\n",
       "       [ 3,  6, -1,  8],\n",
       "       [ 4,  7,  8, -3]])"
      ]
     },
     "execution_count": 47,
     "metadata": {},
     "output_type": "execute_result"
    }
   ],
   "source": [
    "A = np.array([[1,2,3,4],[2,5,6,7],[3,6,-1,8],[4,7,8,-3]])\n",
    "A"
   ]
  },
  {
   "cell_type": "code",
   "execution_count": 48,
   "id": "7a07bece-25e8-47ac-974c-723af28b277d",
   "metadata": {},
   "outputs": [
    {
     "data": {
      "text/plain": [
       "\"L'argument n'est pas une matrice définie positive\""
      ]
     },
     "execution_count": 48,
     "metadata": {},
     "output_type": "execute_result"
    }
   ],
   "source": [
    "Choleski(A)"
   ]
  },
  {
   "cell_type": "markdown",
   "id": "83719528-6018-4e13-af09-c33f073d66f3",
   "metadata": {},
   "source": [
    "La matrice $A$ est bien symétrique, mais elle n'est pas définie positive car il y a -1 et -3 sur la diagonale"
   ]
  },
  {
   "cell_type": "markdown",
   "id": "216fd220-7959-4488-9094-de1ebfe6f430",
   "metadata": {},
   "source": [
    "Recopier les fonctions Remontee et Descente du TP précédent."
   ]
  },
  {
   "cell_type": "code",
   "execution_count": 49,
   "id": "42c9de5b-e59e-4aac-9b40-beb09c02a08f",
   "metadata": {},
   "outputs": [],
   "source": [
    "def Remontee(A,b):\n",
    "    dim=np.shape(b)[0]\n",
    "    if dim!=np.shape(A)[0]:\n",
    "        print(\"Problème de dimension entre A et b\")\n",
    "    x=np.zeros(dim)\n",
    "    for i in range(n):\n",
    "        if A[n-1-i,n-1-i]<10**(-12):\n",
    "            print('Attention, la matrice est presque singulière pour le rang', i)\n",
    "        s=x[n-i:]@A[n-i-1,n-i:]\n",
    "        x[n-1-i]=(1/A[n-1-i,n-1-i])*(b[n-1-i]-s)\n",
    "    return x\n",
    "\n",
    "\n",
    "def Descente(A,b):\n",
    "    dim=np.shape(b)[0]\n",
    "    if dim!=np.shape(A)[0]:\n",
    "        print(\"Problème de dimension entre A et b\")\n",
    "    x=np.zeros(dim)\n",
    "    for i in range(n):\n",
    "        if A[i,i]<10**(-12):\n",
    "            print('Attention, la matrice est presque singulière pour le rang', i)\n",
    "        s=x[0:i:]@A[i,0:i]\n",
    "        x[i]=(1/A[i,i])*(b[i]-s)\n",
    "    return x"
   ]
  },
  {
   "cell_type": "code",
   "execution_count": null,
   "id": "fcce87e1-e38d-48da-8f33-631546ffacda",
   "metadata": {},
   "outputs": [],
   "source": []
  },
  {
   "cell_type": "markdown",
   "id": "07bb3784-9e6b-403e-a370-17e9efde1b5b",
   "metadata": {},
   "source": [
    "On les utilise pour résoudre le système proposé. "
   ]
  },
  {
   "cell_type": "code",
   "execution_count": 50,
   "id": "58fb8ced-ddb9-490b-a0fc-29e228e95de3",
   "metadata": {},
   "outputs": [],
   "source": [
    "B = np.ones(5)\n",
    "\n"
   ]
  },
  {
   "cell_type": "markdown",
   "id": "1e7103cf-d990-41d4-9580-940e27929fab",
   "metadata": {},
   "source": [
    "Définition de la fonction Thomas quand la matrice est tridiagonale. "
   ]
  },
  {
   "cell_type": "code",
   "execution_count": 51,
   "id": "28662d04-6a96-42b3-933f-e445bf8a39ca",
   "metadata": {},
   "outputs": [
    {
     "ename": "SyntaxError",
     "evalue": "incomplete input (310997826.py, line 1)",
     "output_type": "error",
     "traceback": [
      "\u001b[0;36m  File \u001b[0;32m\"/tmp/ipykernel_13113/310997826.py\"\u001b[0;36m, line \u001b[0;32m1\u001b[0m\n\u001b[0;31m    def LU_Thomas(A):\u001b[0m\n\u001b[0m                     ^\u001b[0m\n\u001b[0;31mSyntaxError\u001b[0m\u001b[0;31m:\u001b[0m incomplete input\n"
     ]
    }
   ],
   "source": [
    "def LU_Thomas(A):\n"
   ]
  },
  {
   "cell_type": "markdown",
   "id": "eb1f5a4b-2111-45ec-9935-ea80ea30698f",
   "metadata": {},
   "source": [
    "La matrice $A$ est créée avec la fonction np.eye."
   ]
  },
  {
   "cell_type": "code",
   "execution_count": null,
   "id": "67be58bb-1656-4d43-89dd-d1b150fa6000",
   "metadata": {},
   "outputs": [],
   "source": []
  },
  {
   "cell_type": "code",
   "execution_count": null,
   "id": "f7e5a460-df35-43a7-b3b3-1b235f79b964",
   "metadata": {},
   "outputs": [],
   "source": []
  },
  {
   "cell_type": "code",
   "execution_count": null,
   "id": "4f8c9b50-8f93-416b-b59a-5f2b72990a6d",
   "metadata": {},
   "outputs": [],
   "source": []
  },
  {
   "cell_type": "code",
   "execution_count": null,
   "id": "a46ea806-2511-48fc-9893-4ebe0e3249a9",
   "metadata": {},
   "outputs": [],
   "source": []
  },
  {
   "cell_type": "code",
   "execution_count": null,
   "id": "80afdcc5-681a-42e1-b5ce-0612179d4074",
   "metadata": {},
   "outputs": [],
   "source": []
  }
 ],
 "metadata": {
  "kernelspec": {
   "display_name": "Python 3 (ipykernel)",
   "language": "python",
   "name": "python3"
  },
  "language_info": {
   "codemirror_mode": {
    "name": "ipython",
    "version": 3
   },
   "file_extension": ".py",
   "mimetype": "text/x-python",
   "name": "python",
   "nbconvert_exporter": "python",
   "pygments_lexer": "ipython3",
   "version": "3.9.13"
  }
 },
 "nbformat": 4,
 "nbformat_minor": 5
}
