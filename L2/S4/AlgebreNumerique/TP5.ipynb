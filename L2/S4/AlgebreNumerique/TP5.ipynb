{
 "cells": [
  {
   "cell_type": "code",
   "execution_count": null,
   "id": "7679e482-7c64-4045-bcf6-ace302343a9b",
   "metadata": {},
   "outputs": [],
   "source": [
    "import numpy as np\n",
    "import scipy as sp"
   ]
  },
  {
   "cell_type": "markdown",
   "id": "ff53c967-1948-4f36-84d9-5b5b65258033",
   "metadata": {},
   "source": [
    "Définition de la fonction Choleski (à compléter)"
   ]
  },
  {
   "cell_type": "code",
   "execution_count": null,
   "id": "1029f5f4-e8e5-4aec-87f5-859afc6cd408",
   "metadata": {},
   "outputs": [],
   "source": [
    "def Choleski(A):\n",
    "    if not isinstance(A,np.ndarray):\n",
    "        return \"l'argument doit être une matrice\"\n",
    "    \n",
    "    if A.shape[0]!=A.shape[1]:\n",
    "        return \"l'argument doit être une matrice carrée\"\n",
    "    if (A-A.T).any()!=np.zeros(A.shape).any():\n",
    "        return \"l'argument doit être une matrice symétrique\"\n",
    "    L=np.zeros(A.shape)\n",
    "    \n",
    "    \n",
    "    if A[0,0]<0:\n",
    "        return \"L'argument n'est pas une matrice définie positive\"\n",
    "    L[0,0]=np.sqrt(A[0,0])\n",
    "         "
   ]
  },
  {
   "cell_type": "markdown",
   "id": "f175fbf7-b6d9-4980-8b21-79f7cb697908",
   "metadata": {},
   "source": [
    "On définit la matrice de Hilbert de taille 5 puis on lui applique la fonction Choleski."
   ]
  },
  {
   "cell_type": "code",
   "execution_count": null,
   "id": "aa5b3b4b-eef9-40df-960b-92bb20c9431c",
   "metadata": {},
   "outputs": [],
   "source": []
  },
  {
   "cell_type": "code",
   "execution_count": null,
   "id": "ae3e5cfd-7e0c-48f7-9fc1-f6a67578ff40",
   "metadata": {},
   "outputs": [],
   "source": []
  },
  {
   "cell_type": "code",
   "execution_count": null,
   "id": "632d2c91-1ddd-4d17-9164-45105c6706ff",
   "metadata": {},
   "outputs": [],
   "source": []
  },
  {
   "cell_type": "code",
   "execution_count": null,
   "id": "9211eeeb-a1e9-45f8-8e63-ef1e00e8936b",
   "metadata": {},
   "outputs": [],
   "source": [
    "A = np.array([[1,2,3,4],[2,5,6,7],[3,6,-1,8],[4,7,8,-3]])\n",
    "A"
   ]
  },
  {
   "cell_type": "code",
   "execution_count": null,
   "id": "7a07bece-25e8-47ac-974c-723af28b277d",
   "metadata": {},
   "outputs": [],
   "source": [
    "Choleski(A)"
   ]
  },
  {
   "cell_type": "markdown",
   "id": "83719528-6018-4e13-af09-c33f073d66f3",
   "metadata": {},
   "source": [
    "La matrice $A$ est bien symétrique, mais elle n'est pas définie positive. "
   ]
  },
  {
   "cell_type": "markdown",
   "id": "216fd220-7959-4488-9094-de1ebfe6f430",
   "metadata": {},
   "source": [
    "Recopier les fonctions Remontee et Descente du TP précédent."
   ]
  },
  {
   "cell_type": "code",
   "execution_count": null,
   "id": "42c9de5b-e59e-4aac-9b40-beb09c02a08f",
   "metadata": {},
   "outputs": [],
   "source": []
  },
  {
   "cell_type": "code",
   "execution_count": null,
   "id": "fcce87e1-e38d-48da-8f33-631546ffacda",
   "metadata": {},
   "outputs": [],
   "source": []
  },
  {
   "cell_type": "markdown",
   "id": "07bb3784-9e6b-403e-a370-17e9efde1b5b",
   "metadata": {},
   "source": [
    "On les utilise pour résoudre le système proposé. "
   ]
  },
  {
   "cell_type": "code",
   "execution_count": null,
   "id": "58fb8ced-ddb9-490b-a0fc-29e228e95de3",
   "metadata": {},
   "outputs": [],
   "source": []
  },
  {
   "cell_type": "markdown",
   "id": "1e7103cf-d990-41d4-9580-940e27929fab",
   "metadata": {},
   "source": [
    "Définition de la fonction Thomas quand la matrice est tridiagonale. "
   ]
  },
  {
   "cell_type": "code",
   "execution_count": null,
   "id": "28662d04-6a96-42b3-933f-e445bf8a39ca",
   "metadata": {},
   "outputs": [],
   "source": [
    "def LU_Thomas(A):\n"
   ]
  },
  {
   "cell_type": "markdown",
   "id": "eb1f5a4b-2111-45ec-9935-ea80ea30698f",
   "metadata": {},
   "source": [
    "La matrice $A$ est créée avec la fonction np.eye."
   ]
  },
  {
   "cell_type": "code",
   "execution_count": null,
   "id": "67be58bb-1656-4d43-89dd-d1b150fa6000",
   "metadata": {},
   "outputs": [],
   "source": []
  },
  {
   "cell_type": "code",
   "execution_count": null,
   "id": "f7e5a460-df35-43a7-b3b3-1b235f79b964",
   "metadata": {},
   "outputs": [],
   "source": []
  },
  {
   "cell_type": "code",
   "execution_count": null,
   "id": "4f8c9b50-8f93-416b-b59a-5f2b72990a6d",
   "metadata": {},
   "outputs": [],
   "source": []
  },
  {
   "cell_type": "code",
   "execution_count": null,
   "id": "a46ea806-2511-48fc-9893-4ebe0e3249a9",
   "metadata": {},
   "outputs": [],
   "source": []
  },
  {
   "cell_type": "code",
   "execution_count": null,
   "id": "80afdcc5-681a-42e1-b5ce-0612179d4074",
   "metadata": {},
   "outputs": [],
   "source": []
  }
 ],
 "metadata": {
  "kernelspec": {
   "display_name": "Python 3.10.6 64-bit",
   "language": "python",
   "name": "python3"
  },
  "language_info": {
   "codemirror_mode": {
    "name": "ipython",
    "version": 3
   },
   "file_extension": ".py",
   "mimetype": "text/x-python",
   "name": "python",
   "nbconvert_exporter": "python",
   "pygments_lexer": "ipython3",
   "version": "3.10.6"
  },
  "vscode": {
   "interpreter": {
    "hash": "e7370f93d1d0cde622a1f8e1c04877d8463912d04d973331ad4851f04de6915a"
   }
  }
 },
 "nbformat": 4,
 "nbformat_minor": 5
}
