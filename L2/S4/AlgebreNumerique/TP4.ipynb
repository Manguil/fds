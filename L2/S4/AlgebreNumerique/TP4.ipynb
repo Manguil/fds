{
 "cells": [
  {
   "cell_type": "markdown",
   "metadata": {},
   "source": [
    "## TP4"
   ]
  },
  {
   "cell_type": "markdown",
   "metadata": {},
   "source": [
    "### Exercice 1:"
   ]
  },
  {
   "cell_type": "code",
   "execution_count": 42,
   "metadata": {},
   "outputs": [
    {
     "name": "stdout",
     "output_type": "stream",
     "text": [
      "(-1.0, -1.0, 1.0)\n"
     ]
    }
   ],
   "source": [
    "import numpy as np\n",
    "import matplotlib.pyplot as plt\n",
    "\n",
    "A = np.array([[1,1,3],[0,2,4],[0,0,4]])\n",
    "b = np.array([1,2,4])\n",
    "taille = 3\n",
    "\n",
    "def remontee(A,b):\n",
    "    x3 = b[2]/A[2][2]\n",
    "    x2 = (b[1]-A[1][2]*x3)/A[1][1]\n",
    "    x1 = (b[0]-(A[0][1]*x2+A[0][2]*x3))/A[0][0]\n",
    "    return x1,x2,x3\n",
    "\n",
    "print(remontee(A,b))"
   ]
  },
  {
   "cell_type": "markdown",
   "metadata": {},
   "source": [
    "### Exercice 2:"
   ]
  },
  {
   "cell_type": "markdown",
   "metadata": {},
   "source": [
    "###### 1-"
   ]
  },
  {
   "cell_type": "code",
   "execution_count": 43,
   "metadata": {},
   "outputs": [
    {
     "name": "stdout",
     "output_type": "stream",
     "text": [
      "[[0.05467106 0.61651422 0.0868437 ]\n",
      " [0.         0.7450479  0.72898787]\n",
      " [0.         0.         0.58218228]]\n"
     ]
    }
   ],
   "source": [
    "def inversible(A):\n",
    "    if A is None:\n",
    "        return False\n",
    "    return (np.abs(np.linalg.det(A)) >= 10**-12)\n",
    "\n",
    "def matTriangSup(taille):\n",
    "    A = None\n",
    "    while not(inversible(A)):\n",
    "        A = np.triu(np.random.rand(taille,taille))\n",
    "    return A\n",
    "\n",
    "print(matTriangSup(taille))"
   ]
  },
  {
   "cell_type": "markdown",
   "metadata": {},
   "source": [
    "###### 2- 3-"
   ]
  },
  {
   "cell_type": "code",
   "execution_count": 44,
   "metadata": {},
   "outputs": [
    {
     "name": "stdout",
     "output_type": "stream",
     "text": [
      "[-1. -1.  1.]\n"
     ]
    }
   ],
   "source": [
    "\n",
    "\n",
    "def remonteeGen(A,b,taille):\n",
    "    if inversible(A):\n",
    "        x = np.zeros((taille))\n",
    "        for i in range(taille-1, -1, -1):\n",
    "            x[i] = b[i]\n",
    "            for j in range(len(A)):\n",
    "                x[i] -= A[i][j]*x[j] if j != i else 0\n",
    "            x[i] /= A[i][i]\n",
    "        return x\n",
    "    else :\n",
    "        raise np.linalg.LinAlgError(\"pas inversible\")\n",
    "\n",
    "x = remonteeGen(A,b,taille)\n",
    "print(x)"
   ]
  },
  {
   "cell_type": "markdown",
   "metadata": {},
   "source": [
    "###### 4-"
   ]
  },
  {
   "cell_type": "code",
   "execution_count": 45,
   "metadata": {},
   "outputs": [
    {
     "name": "stdout",
     "output_type": "stream",
     "text": [
      "0.0\n"
     ]
    }
   ],
   "source": [
    "def normeResidu(A,x,b):\n",
    "    return max(np.abs(A@x - b))\n",
    "\n",
    "\n",
    "print(normeResidu(A,x,b))"
   ]
  },
  {
   "cell_type": "markdown",
   "metadata": {},
   "source": [
    "#### Exercice 3"
   ]
  },
  {
   "cell_type": "code",
   "execution_count": 2,
   "metadata": {},
   "outputs": [
    {
     "data": {
      "image/png": "[encoded data removed]",
      "text/plain": [
       "<Figure size 640x480 with 1 Axes>"
      ]
     },
     "metadata": {},
     "output_type": "display_data"
    }
   ],
   "source": [
    "y = []\n",
    "for i in range(2,30):\n",
    "    d = np.random.rand(i)\n",
    "    C = matTriangSup(i)\n",
    "    y.append(normeResidu(C,remonteeGen(C,d,i),d))\n",
    "\n",
    "x = range(2,30)\n",
    "plt.plot(x,y)\n",
    "plt.show()"
   ]
  }
 ],
 "metadata": {
  "kernelspec": {
   "display_name": "Python 3.10.6 64-bit",
   "language": "python",
   "name": "python3"
  },
  "language_info": {
   "codemirror_mode": {
    "name": "ipython",
    "version": 3
   },
   "file_extension": ".py",
   "mimetype": "text/x-python",
   "name": "python",
   "nbconvert_exporter": "python",
   "pygments_lexer": "ipython3",
   "version": "3.10.6"
  },
  "vscode": {
   "interpreter": {
    "hash": "e7370f93d1d0cde622a1f8e1c04877d8463912d04d973331ad4851f04de6915a"
   }
  }
 },
 "nbformat": 4,
 "nbformat_minor": 4
}
