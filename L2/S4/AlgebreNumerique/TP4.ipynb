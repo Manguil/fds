{
 "cells": [
  {
   "cell_type": "markdown",
   "metadata": {},
   "source": [
    "## TP4"
   ]
  },
  {
   "cell_type": "markdown",
   "metadata": {},
   "source": [
    "### Exercice 1:"
   ]
  },
  {
   "cell_type": "code",
   "execution_count": 51,
   "metadata": {},
   "outputs": [
    {
     "name": "stdout",
     "output_type": "stream",
     "text": [
      "(-1.0, -1.0, 1.0)\n"
     ]
    }
   ],
   "source": [
    "import numpy as np\n",
    "\n",
    "A = np.array([[1,1,3],[0,2,4],[0,0,4]])\n",
    "b = np.array([1,2,4])\n",
    "taille = 3\n",
    "\n",
    "def remontee(A,b):\n",
    "    x3 = b[2]/A[2][2]\n",
    "    x2 = (b[1]-A[1][2]*x3)/A[1][1]\n",
    "    x1 = (b[0]-(A[0][1]*x2+A[0][2]*x3))/A[0][0]\n",
    "    return x1,x2,x3\n",
    "\n",
    "print(remontee(A,b))"
   ]
  },
  {
   "cell_type": "markdown",
   "metadata": {},
   "source": [
    "### Exercice 2:"
   ]
  },
  {
   "cell_type": "markdown",
   "metadata": {},
   "source": [
    "###### 1-"
   ]
  },
  {
   "cell_type": "code",
   "execution_count": 52,
   "metadata": {},
   "outputs": [
    {
     "name": "stdout",
     "output_type": "stream",
     "text": [
      "[[0.83283777 0.89311873 0.07887914]\n",
      " [0.         0.16701826 0.8461243 ]\n",
      " [0.         0.         0.1850302 ]]\n"
     ]
    }
   ],
   "source": [
    "def matTriangSup(taille):\n",
    "    A = np.triu(np.random.rand(taille,taille))\n",
    "    return A\n",
    "\n",
    "print(matTriangSup(taille))"
   ]
  },
  {
   "cell_type": "markdown",
   "metadata": {},
   "source": [
    "###### 2-"
   ]
  },
  {
   "cell_type": "code",
   "execution_count": 53,
   "metadata": {},
   "outputs": [
    {
     "name": "stdout",
     "output_type": "stream",
     "text": [
      "True\n",
      "[1. 1. 1.]\n"
     ]
    }
   ],
   "source": [
    "def inversible(A):\n",
    "    return (np.linalg.det(A) != 0)\n",
    "\n",
    "print(inversible(A))\n",
    "\n",
    "def remonteeGen(A,b,taille):\n",
    "    if inversible(A) == True :\n",
    "        x = np.zeros((taille))\n",
    "        for i in range(taille-1, -1, -1):\n",
    "            x[i] = b[i]\n",
    "            for j in range(i-1,-1,-1):\n",
    "                x[i] -= A[i][j]*x[j]\n",
    "            x[i] /= A[i][i]\n",
    "        return x\n",
    "    else :\n",
    "        raise \"pas inversible\"\n",
    "\n",
    "print(remonteeGen(A,b,taille))"
   ]
  }
 ],
 "metadata": {
  "kernelspec": {
   "display_name": "Python 3.10.6 64-bit",
   "language": "python",
   "name": "python3"
  },
  "language_info": {
   "codemirror_mode": {
    "name": "ipython",
    "version": 3
   },
   "file_extension": ".py",
   "mimetype": "text/x-python",
   "name": "python",
   "nbconvert_exporter": "python",
   "pygments_lexer": "ipython3",
   "version": "3.10.6"
  },
  "orig_nbformat": 4,
  "vscode": {
   "interpreter": {
    "hash": "e7370f93d1d0cde622a1f8e1c04877d8463912d04d973331ad4851f04de6915a"
   }
  }
 },
 "nbformat": 4,
 "nbformat_minor": 2
}
