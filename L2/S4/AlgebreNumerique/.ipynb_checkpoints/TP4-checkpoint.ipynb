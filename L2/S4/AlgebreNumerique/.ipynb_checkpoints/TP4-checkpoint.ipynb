{
 "cells": [
  {
   "cell_type": "markdown",
   "metadata": {},
   "source": [
    "## TP4"
   ]
  },
  {
   "cell_type": "markdown",
   "metadata": {},
   "source": [
    "### Exercice 1:"
   ]
  },
  {
   "cell_type": "code",
   "execution_count": 1,
   "metadata": {},
   "outputs": [
    {
     "name": "stdout",
     "output_type": "stream",
     "text": [
      "(-1.0, -1.0, 1.0)\n"
     ]
    }
   ],
   "source": [
    "import numpy as np\n",
    "import matplotlib.pyplot as plt\n",
    "\n",
    "A = np.array([[1,1,3],[0,2,4],[0,0,4]])\n",
    "b = np.array([1,2,4])\n",
    "taille = 3\n",
    "\n",
    "def remontee(A,b):\n",
    "    x3 = b[2]/A[2][2]\n",
    "    x2 = (b[1]-A[1][2]*x3)/A[1][1]\n",
    "    x1 = (b[0]-(A[0][1]*x2+A[0][2]*x3))/A[0][0]\n",
    "    return x1,x2,x3\n",
    "\n",
    "print(remontee(A,b))"
   ]
  },
  {
   "cell_type": "markdown",
   "metadata": {},
   "source": [
    "### Exercice 2:"
   ]
  },
  {
   "cell_type": "markdown",
   "metadata": {},
   "source": [
    "###### 1-"
   ]
  },
  {
   "cell_type": "code",
   "execution_count": 2,
   "metadata": {},
   "outputs": [
    {
     "name": "stdout",
     "output_type": "stream",
     "text": [
      "[[0.18731084 0.77760227 0.95675751]\n",
      " [0.         0.2111375  0.09806114]\n",
      " [0.         0.         0.51135284]]\n"
     ]
    }
   ],
   "source": [
    "def matTriangSup(taille):\n",
    "    A = np.triu(np.random.rand(taille,taille))\n",
    "    return A\n",
    "\n",
    "print(matTriangSup(taille))"
   ]
  },
  {
   "cell_type": "markdown",
   "metadata": {},
   "source": [
    "###### 2- 3-"
   ]
  },
  {
   "cell_type": "code",
   "execution_count": 3,
   "metadata": {},
   "outputs": [
    {
     "name": "stdout",
     "output_type": "stream",
     "text": [
      "True\n",
      "[-1. -1.  1.]\n"
     ]
    }
   ],
   "source": [
    "def inversible(A):\n",
    "    return (np.abs(np.linalg.det(A)) != 0)\n",
    "\n",
    "print(inversible(A))\n",
    "\n",
    "def remonteeGen(A,b,taille):\n",
    "    if inversible(A):\n",
    "        x = np.zeros((taille))\n",
    "        for i in range(taille-1, -1, -1):\n",
    "            x[i] = b[i]\n",
    "            for j in range(len(A)):\n",
    "                x[i] -= A[i][j]*x[j] if j != i else 0\n",
    "            x[i] /= A[i][i]\n",
    "        return x\n",
    "    else :\n",
    "        raise np.linalg.LinAlgError(\"pas inversible\")\n",
    "\n",
    "x = remonteeGen(A,b,taille)\n",
    "print(x)"
   ]
  },
  {
   "cell_type": "markdown",
   "metadata": {},
   "source": [
    "###### 4-"
   ]
  },
  {
   "cell_type": "code",
   "execution_count": 4,
   "metadata": {},
   "outputs": [
    {
     "name": "stdout",
     "output_type": "stream",
     "text": [
      "0.0\n"
     ]
    }
   ],
   "source": [
    "def normeResidu(A,x,b):\n",
    "    return max(np.abs(A@x - b))\n",
    "\n",
    "\n",
    "print(normeResidu(A,x,b))"
   ]
  },
  {
   "cell_type": "markdown",
   "metadata": {},
   "source": [
    "#### Exercice 3"
   ]
  },
  {
   "cell_type": "code",
   "execution_count": null,
   "metadata": {},
   "outputs": [],
   "source": [
    "for i in range(2,1001):\n",
    "    d = np.random.rand(i)\n",
    "    C = matTriangSup(i)\n",
    "    x = remonteeGen(C,d,i)\n",
    "\n",
    "y = range(2,1001)\n",
    "\n",
    "plt.plot(y,x)\n",
    "plt.show()"
   ]
  },
  {
   "cell_type": "code",
   "execution_count": null,
   "metadata": {},
   "outputs": [],
   "source": []
  }
 ],
 "metadata": {
  "kernelspec": {
   "display_name": "Python 3 (ipykernel)",
   "language": "python",
   "name": "python3"
  },
  "language_info": {
   "codemirror_mode": {
    "name": "ipython",
    "version": 3
   },
   "file_extension": ".py",
   "mimetype": "text/x-python",
   "name": "python",
   "nbconvert_exporter": "python",
   "pygments_lexer": "ipython3",
   "version": "3.9.12"
  },
  "vscode": {
   "interpreter": {
    "hash": "e7370f93d1d0cde622a1f8e1c04877d8463912d04d973331ad4851f04de6915a"
   }
  }
 },
 "nbformat": 4,
 "nbformat_minor": 4
}
