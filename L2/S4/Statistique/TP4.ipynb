{
 "cells": [
  {
   "cell_type": "markdown",
   "id": "54d27697-5c89-4429-9fa7-33b09ee6282a",
   "metadata": {},
   "source": [
    "Pour tout ce TP, travaillez dans un notebook (cf TP2) et entrainez vous à sauvegarder votre travail aux formats .ipynb et .pdf. Un notebook prérempli (avec l'énoncé) est disponible sur la page moodle du cours.\n",
    "Ne pas oublier d'importer les librairies qui nous seront utiles."
   ]
  },
  {
   "cell_type": "code",
   "execution_count": 1,
   "id": "bcf9f701-395d-409e-b3f6-e503e1509939",
   "metadata": {},
   "outputs": [],
   "source": [
    "import numpy as np\n",
    "import pandas as pd\n",
    "import matplotlib.pyplot as plt\n",
    "from sklearn.decomposition import PCA \n",
    "from sklearn.preprocessing import StandardScaler"
   ]
  },
  {
   "cell_type": "markdown",
   "id": "24a37fc1-371c-417d-931a-6a47a138d455",
   "metadata": {},
   "source": [
    "## TP4 : Statistique descriptive multivariée"
   ]
  },
  {
   "cell_type": "markdown",
   "id": "b7926565-9a0c-4ff6-834d-414573a8db82",
   "metadata": {},
   "source": [
    "Récupérez le fichier temperat.csv sur la page moodle du cours et sauvegardez-le dans votre répertoire de travail. Importez le jeu de données via la commande"
   ]
  },
  {
   "cell_type": "code",
   "execution_count": 2,
   "id": "e2760282-0aeb-4eff-8295-a26dfd926068",
   "metadata": {},
   "outputs": [],
   "source": [
    "temp = pd.read_csv('temperat.csv',sep=';')"
   ]
  },
  {
   "cell_type": "markdown",
   "id": "d63fe8e1-f63f-446b-bf01-12943d22ae3b",
   "metadata": {},
   "source": [
    "#### 1 - Examiner le jeu de données. Combien y a-t-il d'individus ? Combien de variables quantitatives ? Combien de variables qualitatives ?"
   ]
  },
  {
   "attachments": {},
   "cell_type": "markdown",
   "id": "8e9e8dc9-24c5-41f5-9fea-66257be42d40",
   "metadata": {},
   "source": [
    "Il y a 35 individus, 15(-1) variables quantitatives et 2(-1) variables qualitatives"
   ]
  },
  {
   "cell_type": "markdown",
   "id": "e2e90ff3-a614-4d00-ae78-f123099fb976",
   "metadata": {},
   "source": [
    "#### 2 - Extraire le tableau des variables quantitatives."
   ]
  },
  {
   "cell_type": "code",
   "execution_count": 3,
   "id": "51965f9b-53fb-4e0e-bcf7-1f0d42fc29ca",
   "metadata": {},
   "outputs": [],
   "source": [
    "temperature = temp.iloc[:,1:17]"
   ]
  },
  {
   "cell_type": "markdown",
   "id": "bfc8a6a2-682e-401e-b58b-6b36116db427",
   "metadata": {},
   "source": [
    "#### 3 - Centrer et réduire les données"
   ]
  },
  {
   "cell_type": "code",
   "execution_count": 4,
   "id": "19638e4b-4c63-464a-b9cf-101ef784d78a",
   "metadata": {},
   "outputs": [],
   "source": [
    "scaler = StandardScaler()\n",
    "scaler.fit(temperature)\n",
    "Z = scaler.transform(temperature)\n"
   ]
  },
  {
   "cell_type": "markdown",
   "id": "25da8744-f213-4c7a-8ed0-2d94f75bdf44",
   "metadata": {},
   "source": [
    "#### 4 - Lancer l'ACP"
   ]
  },
  {
   "cell_type": "code",
   "execution_count": 5,
   "id": "9062f3fe-bda1-4d8a-b968-a1aeb0b6642c",
   "metadata": {},
   "outputs": [
    {
     "data": {
      "text/html": [
       "<style>#sk-container-id-1 {color: black;background-color: white;}#sk-container-id-1 pre{padding: 0;}#sk-container-id-1 div.sk-toggleable {background-color: white;}#sk-container-id-1 label.sk-toggleable__label {cursor: pointer;display: block;width: 100%;margin-bottom: 0;padding: 0.3em;box-sizing: border-box;text-align: center;}#sk-container-id-1 label.sk-toggleable__label-arrow:before {content: \"▸\";float: left;margin-right: 0.25em;color: #696969;}#sk-container-id-1 label.sk-toggleable__label-arrow:hover:before {color: black;}#sk-container-id-1 div.sk-estimator:hover label.sk-toggleable__label-arrow:before {color: black;}#sk-container-id-1 div.sk-toggleable__content {max-height: 0;max-width: 0;overflow: hidden;text-align: left;background-color: #f0f8ff;}#sk-container-id-1 div.sk-toggleable__content pre {margin: 0.2em;color: black;border-radius: 0.25em;background-color: #f0f8ff;}#sk-container-id-1 input.sk-toggleable__control:checked~div.sk-toggleable__content {max-height: 200px;max-width: 100%;overflow: auto;}#sk-container-id-1 input.sk-toggleable__control:checked~label.sk-toggleable__label-arrow:before {content: \"▾\";}#sk-container-id-1 div.sk-estimator input.sk-toggleable__control:checked~label.sk-toggleable__label {background-color: #d4ebff;}#sk-container-id-1 div.sk-label input.sk-toggleable__control:checked~label.sk-toggleable__label {background-color: #d4ebff;}#sk-container-id-1 input.sk-hidden--visually {border: 0;clip: rect(1px 1px 1px 1px);clip: rect(1px, 1px, 1px, 1px);height: 1px;margin: -1px;overflow: hidden;padding: 0;position: absolute;width: 1px;}#sk-container-id-1 div.sk-estimator {font-family: monospace;background-color: #f0f8ff;border: 1px dotted black;border-radius: 0.25em;box-sizing: border-box;margin-bottom: 0.5em;}#sk-container-id-1 div.sk-estimator:hover {background-color: #d4ebff;}#sk-container-id-1 div.sk-parallel-item::after {content: \"\";width: 100%;border-bottom: 1px solid gray;flex-grow: 1;}#sk-container-id-1 div.sk-label:hover label.sk-toggleable__label {background-color: #d4ebff;}#sk-container-id-1 div.sk-serial::before {content: \"\";position: absolute;border-left: 1px solid gray;box-sizing: border-box;top: 0;bottom: 0;left: 50%;z-index: 0;}#sk-container-id-1 div.sk-serial {display: flex;flex-direction: column;align-items: center;background-color: white;padding-right: 0.2em;padding-left: 0.2em;position: relative;}#sk-container-id-1 div.sk-item {position: relative;z-index: 1;}#sk-container-id-1 div.sk-parallel {display: flex;align-items: stretch;justify-content: center;background-color: white;position: relative;}#sk-container-id-1 div.sk-item::before, #sk-container-id-1 div.sk-parallel-item::before {content: \"\";position: absolute;border-left: 1px solid gray;box-sizing: border-box;top: 0;bottom: 0;left: 50%;z-index: -1;}#sk-container-id-1 div.sk-parallel-item {display: flex;flex-direction: column;z-index: 1;position: relative;background-color: white;}#sk-container-id-1 div.sk-parallel-item:first-child::after {align-self: flex-end;width: 50%;}#sk-container-id-1 div.sk-parallel-item:last-child::after {align-self: flex-start;width: 50%;}#sk-container-id-1 div.sk-parallel-item:only-child::after {width: 0;}#sk-container-id-1 div.sk-dashed-wrapped {border: 1px dashed gray;margin: 0 0.4em 0.5em 0.4em;box-sizing: border-box;padding-bottom: 0.4em;background-color: white;}#sk-container-id-1 div.sk-label label {font-family: monospace;font-weight: bold;display: inline-block;line-height: 1.2em;}#sk-container-id-1 div.sk-label-container {text-align: center;}#sk-container-id-1 div.sk-container {/* jupyter's `normalize.less` sets `[hidden] { display: none; }` but bootstrap.min.css set `[hidden] { display: none !important; }` so we also need the `!important` here to be able to override the default hidden behavior on the sphinx rendered scikit-learn.org. See: https://github.com/scikit-learn/scikit-learn/issues/21755 */display: inline-block !important;position: relative;}#sk-container-id-1 div.sk-text-repr-fallback {display: none;}</style><div id=\"sk-container-id-1\" class=\"sk-top-container\"><div class=\"sk-text-repr-fallback\"><pre>PCA()</pre><b>In a Jupyter environment, please rerun this cell to show the HTML representation or trust the notebook. <br />On GitHub, the HTML representation is unable to render, please try loading this page with nbviewer.org.</b></div><div class=\"sk-container\" hidden><div class=\"sk-item\"><div class=\"sk-estimator sk-toggleable\"><input class=\"sk-toggleable__control sk-hidden--visually\" id=\"sk-estimator-id-1\" type=\"checkbox\" checked><label for=\"sk-estimator-id-1\" class=\"sk-toggleable__label sk-toggleable__label-arrow\">PCA</label><div class=\"sk-toggleable__content\"><pre>PCA()</pre></div></div></div></div></div>"
      ],
      "text/plain": [
       "PCA()"
      ]
     },
     "execution_count": 5,
     "metadata": {},
     "output_type": "execute_result"
    }
   ],
   "source": [
    "pca = PCA()\n",
    "pca.fit(Z)"
   ]
  },
  {
   "cell_type": "markdown",
   "id": "5703c925-29d5-4429-81a0-d6cf3d384a8a",
   "metadata": {},
   "source": [
    "#### 5 - Examiner les valeurs propres. Combien souhaitez-vous garder de composantes principales ?"
   ]
  },
  {
   "cell_type": "code",
   "execution_count": 11,
   "id": "a2e852e8-1244-4177-9dc3-05975c604621",
   "metadata": {},
   "outputs": [
    {
     "name": "stdout",
     "output_type": "stream",
     "text": [
      "[0.78034871 0.93922406 0.9791675  0.99109725 0.99544022 0.99740272\n",
      " 0.99878231 0.99928416 0.99963504 0.99977264 0.99986092 0.99992019\n",
      " 0.99996193 0.99998442 0.99999505 1.        ]\n"
     ]
    },
    {
     "data": {
      "image/png": "[encoded data removed]",
      "text/plain": [
       "<Figure size 432x288 with 1 Axes>"
      ]
     },
     "metadata": {
      "needs_background": "light"
     },
     "output_type": "display_data"
    }
   ],
   "source": [
    "print(np.cumsum(pca.explained_variance_ratio_))\n",
    "\n",
    "l = 16*pca.explained_variance_ratio_\n",
    "fig,ax = plt.subplots ()\n",
    "ax.bar(1+np.arange(16),l)\n",
    "ax.plot([0 ,16] ,[1 ,1] , color = 'r')\n",
    "plt.show()\n",
    "\n",
    "F = pca.fit_transform(Z)\n"
   ]
  },
  {
   "attachments": {},
   "cell_type": "markdown",
   "id": "38da17cf",
   "metadata": {},
   "source": [
    "On garde donc les deux premieres composantes (>1)"
   ]
  },
  {
   "cell_type": "markdown",
   "id": "36ac6d8c-5004-4252-a81e-8a05ede55809",
   "metadata": {},
   "source": [
    "#### 6 - Extraire les facteurs"
   ]
  },
  {
   "cell_type": "code",
   "execution_count": null,
   "id": "7ddbebe5-edd1-4897-9c00-b7b74cc2468b",
   "metadata": {},
   "outputs": [],
   "source": [
    "Gn = pca.components_\n",
    "G = np.empty(shape = Gn.shape)\n",
    "for i in range(0 , Gn.shape[0]) :\n",
    "    G[i,:] = Gn[i,:]*np.sqrt(l[i])"
   ]
  },
  {
   "cell_type": "markdown",
   "id": "c163c61b-7dac-41ad-876e-688bd418d359",
   "metadata": {},
   "source": [
    "#### 7 - Tracer le cercle des corrélation dans le premier plan factoriel pour les variables"
   ]
  },
  {
   "cell_type": "code",
   "execution_count": null,
   "id": "043f93bd-c8c2-41fc-ac97-eff8dc81e20c",
   "metadata": {},
   "outputs": [],
   "source": []
  },
  {
   "cell_type": "markdown",
   "id": "9249c6d6-87f0-4f7b-a97b-3fd29fc06516",
   "metadata": {},
   "source": [
    "### Examiner le cercle des corrélation dans le premier plan factoriel pour les variables. "
   ]
  },
  {
   "cell_type": "markdown",
   "id": "1ff1cc28-9442-4d64-aa0a-818f61497f41",
   "metadata": {},
   "source": [
    "#### 8 - Quelles variables sont bien représentées dans ce plan ? Quelle est la variable la moins bien représentée dans ce plan ?"
   ]
  },
  {
   "cell_type": "markdown",
   "id": "d75eda4c-7287-46ae-87b8-062861faeb1e",
   "metadata": {},
   "source": []
  },
  {
   "cell_type": "markdown",
   "id": "32c1a4ab-f599-4b4e-9bfd-c18fa8f04be3",
   "metadata": {},
   "source": [
    "#### 9 - Que pensez vous des positions relatives des variables longitude et lattitude dans ce plan ?"
   ]
  },
  {
   "cell_type": "markdown",
   "id": "c58108da-1dc7-4ba9-8ea9-233accc64988",
   "metadata": {},
   "source": []
  },
  {
   "cell_type": "markdown",
   "id": "396fa367-7b72-433e-8ce1-bd6ec459d405",
   "metadata": {},
   "source": [
    "#### 10 - Que pensez vous des positions relatives des variables longitude et amplitude dans ce plan ?"
   ]
  },
  {
   "cell_type": "markdown",
   "id": "f60d98bd-eb62-4025-86b3-bc1b520506d3",
   "metadata": {},
   "source": []
  },
  {
   "cell_type": "markdown",
   "id": "0a224e75-5802-46d7-88e3-d0fd88067395",
   "metadata": {},
   "source": [
    "#### 11 - Quelles sont les variables qui contribuent le plus au premier axe factoriel ? Comment peut-on interpréter cet axe ? "
   ]
  },
  {
   "cell_type": "code",
   "execution_count": null,
   "id": "d8889393-177f-4149-803a-12b54958b8e5",
   "metadata": {},
   "outputs": [],
   "source": []
  },
  {
   "cell_type": "markdown",
   "id": "77e9289f-591f-4fff-9263-d044e9faa022",
   "metadata": {},
   "source": []
  },
  {
   "cell_type": "markdown",
   "id": "15d4c9d4-dcbb-4bb2-850f-419630044aac",
   "metadata": {},
   "source": [
    "#### 12 -  Quelles sont les variables qui contribuent le plus au deuxième axe factoriel ? Comment peut-on interpréter cet axe ? "
   ]
  },
  {
   "cell_type": "code",
   "execution_count": null,
   "id": "daacf270-aab8-40d7-b049-23e53351dd57",
   "metadata": {},
   "outputs": [],
   "source": []
  },
  {
   "cell_type": "markdown",
   "id": "2c87d2aa-eafe-40cf-9b14-3edf2df54bbb",
   "metadata": {},
   "source": []
  },
  {
   "cell_type": "markdown",
   "id": "293f13bf-df54-4a07-b407-a9a162d0438c",
   "metadata": {},
   "source": [
    "#### 13 - Quelle sont les corrélations entre variables de température mensuelle dans le plan ? Comment l'interpréter ?"
   ]
  },
  {
   "cell_type": "markdown",
   "id": "aa93e672-0f2f-4b4c-b918-7ee7f290f812",
   "metadata": {},
   "source": []
  },
  {
   "cell_type": "markdown",
   "id": "014a0934-db29-43bd-b675-94f19cc99797",
   "metadata": {},
   "source": [
    "#### 14 - Extraire les composantes principales"
   ]
  },
  {
   "cell_type": "code",
   "execution_count": null,
   "id": "e7c9ac28-b557-4180-97f6-599fd61b7702",
   "metadata": {},
   "outputs": [],
   "source": []
  },
  {
   "cell_type": "markdown",
   "id": "8aa39deb-dfaf-46e4-9a29-f4cca8a7be5d",
   "metadata": {},
   "source": [
    "#### 15 - Tracer le nuage de point des individus projetés dans le premier plan factoriel."
   ]
  },
  {
   "cell_type": "code",
   "execution_count": null,
   "id": "1d797d67-0b33-4d85-aa99-de772551e10f",
   "metadata": {},
   "outputs": [],
   "source": []
  },
  {
   "cell_type": "markdown",
   "id": "15eb41f5-9d38-4247-be64-6a72498a68f6",
   "metadata": {},
   "source": [
    "### Examiner la projection des individus dans le premier plan factoriel"
   ]
  },
  {
   "cell_type": "markdown",
   "id": "7e4bebf1-d270-4d1c-a2c6-5814a393f916",
   "metadata": {},
   "source": [
    "#### 16 - Que peut-on dire des villes qui sont le plus à droite sur premier plan factoriel ?"
   ]
  },
  {
   "cell_type": "markdown",
   "id": "bd07ffd2-a2aa-4f45-b03a-d33a6f66f62e",
   "metadata": {},
   "source": []
  },
  {
   "cell_type": "markdown",
   "id": "c46ce69a-bfea-4926-852d-a1cfd5b31c2c",
   "metadata": {},
   "source": [
    "#### 17 - Que peut-on dire des villes qui sont le plus à gauche sur premier plan factoriel ?"
   ]
  },
  {
   "cell_type": "markdown",
   "id": "e35fbad3-ed03-4745-a74c-67ec945b0149",
   "metadata": {},
   "source": []
  },
  {
   "cell_type": "markdown",
   "id": "bb453505-6399-4e56-ae5f-0ccb95200cfc",
   "metadata": {},
   "source": [
    "#### 18 - Que peut-on dire des villes qui sont le plus en haut sur premier plan factoriel ?"
   ]
  },
  {
   "cell_type": "markdown",
   "id": "d83bb258-6c8a-44a8-bb37-2e8dd96864b2",
   "metadata": {},
   "source": []
  },
  {
   "cell_type": "markdown",
   "id": "ee46b619-9685-4fd0-a2fe-35561977dc2a",
   "metadata": {},
   "source": [
    "#### 19 - Que peut-on dire des villes qui sont le plus en bas sur premier plan factoriel ?"
   ]
  },
  {
   "cell_type": "markdown",
   "id": "33a3b07d-5493-4128-9881-ba5ea6f2625d",
   "metadata": {},
   "source": []
  },
  {
   "cell_type": "markdown",
   "id": "8f830d0b-c4fb-4857-aaee-b1c46a4c7a0b",
   "metadata": {},
   "source": [
    "#### 20 - Que peut-on dire d'Oslo, Stockholm, Berlin, Francfort, Genève, Gènes et Palerme au vu de leur position sur premier plan factoriel ?"
   ]
  },
  {
   "cell_type": "markdown",
   "id": "7bcba786-8829-4de2-922a-3f9304040713",
   "metadata": {},
   "source": []
  }
 ],
 "metadata": {
  "kernelspec": {
   "display_name": "Python 3",
   "language": "python",
   "name": "python3"
  },
  "language_info": {
   "codemirror_mode": {
    "name": "ipython",
    "version": 3
   },
   "file_extension": ".py",
   "mimetype": "text/x-python",
   "name": "python",
   "nbconvert_exporter": "python",
   "pygments_lexer": "ipython3",
   "version": "3.10.9"
  },
  "vscode": {
   "interpreter": {
    "hash": "9cb8d6d742562225b9104636960d7a1e98f98eaf4a003080384b6630fecb724b"
   }
  }
 },
 "nbformat": 4,
 "nbformat_minor": 5
}
