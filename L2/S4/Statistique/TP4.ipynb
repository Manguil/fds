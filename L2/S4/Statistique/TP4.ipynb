{
 "cells": [
  {
   "cell_type": "markdown",
   "id": "54d27697-5c89-4429-9fa7-33b09ee6282a",
   "metadata": {},
   "source": [
    "Pour tout ce TP, travaillez dans un notebook (cf TP2) et entrainez vous à sauvegarder votre travail aux formats .ipynb et .pdf. Un notebook prérempli (avec l'énoncé) est disponible sur la page moodle du cours.\n",
    "Ne pas oublier d'importer les librairies qui nous seront utiles."
   ]
  },
  {
   "cell_type": "code",
   "execution_count": null,
   "id": "bcf9f701-395d-409e-b3f6-e503e1509939",
   "metadata": {},
   "outputs": [],
   "source": [
    "import numpy as np\n",
    "import pandas as pd\n",
    "import matplotlib.pyplot as plt\n",
    "from sklearn.decomposition import PCA \n",
    "from sklearn.preprocessing import StandardScaler"
   ]
  },
  {
   "cell_type": "markdown",
   "id": "24a37fc1-371c-417d-931a-6a47a138d455",
   "metadata": {},
   "source": [
    "## TP4 : Statistique descriptive multivariée"
   ]
  },
  {
   "cell_type": "markdown",
   "id": "b7926565-9a0c-4ff6-834d-414573a8db82",
   "metadata": {},
   "source": [
    "Récupérez le fichier temperat.csv sur la page moodle du cours et sauvegardez-le dans votre répertoire de travail. Importez le jeu de données via la commande"
   ]
  },
  {
   "cell_type": "code",
   "execution_count": null,
   "id": "e2760282-0aeb-4eff-8295-a26dfd926068",
   "metadata": {},
   "outputs": [],
   "source": [
    "temp = pd.read_csv('temperat.csv',sep=';')"
   ]
  },
  {
   "cell_type": "markdown",
   "id": "d63fe8e1-f63f-446b-bf01-12943d22ae3b",
   "metadata": {},
   "source": [
    "#### 1 - Examiner le jeu de données. Combien y a-t-il d'individus ? Combien de variables quantitatives ? Combien de variables qualitatives ?"
   ]
  },
  {
   "cell_type": "code",
   "execution_count": null,
   "id": "8e9e8dc9-24c5-41f5-9fea-66257be42d40",
   "metadata": {},
   "outputs": [],
   "source": []
  },
  {
   "cell_type": "markdown",
   "id": "e2e90ff3-a614-4d00-ae78-f123099fb976",
   "metadata": {},
   "source": [
    "#### 2 - Extraire le tableau des variables quantitatives."
   ]
  },
  {
   "cell_type": "code",
   "execution_count": null,
   "id": "51965f9b-53fb-4e0e-bcf7-1f0d42fc29ca",
   "metadata": {},
   "outputs": [],
   "source": []
  },
  {
   "cell_type": "markdown",
   "id": "bfc8a6a2-682e-401e-b58b-6b36116db427",
   "metadata": {},
   "source": [
    "#### 3 - Centrer et réduire les données"
   ]
  },
  {
   "cell_type": "code",
   "execution_count": null,
   "id": "19638e4b-4c63-464a-b9cf-101ef784d78a",
   "metadata": {},
   "outputs": [],
   "source": []
  },
  {
   "cell_type": "markdown",
   "id": "25da8744-f213-4c7a-8ed0-2d94f75bdf44",
   "metadata": {},
   "source": [
    "#### 4 - Lancer l'ACP"
   ]
  },
  {
   "cell_type": "code",
   "execution_count": null,
   "id": "9062f3fe-bda1-4d8a-b968-a1aeb0b6642c",
   "metadata": {},
   "outputs": [],
   "source": []
  },
  {
   "cell_type": "markdown",
   "id": "5703c925-29d5-4429-81a0-d6cf3d384a8a",
   "metadata": {},
   "source": [
    "#### 5 - Examiner les valeurs propres. Combien souhaitez-vous garder de composantes principales ?"
   ]
  },
  {
   "cell_type": "code",
   "execution_count": null,
   "id": "a2e852e8-1244-4177-9dc3-05975c604621",
   "metadata": {},
   "outputs": [],
   "source": []
  },
  {
   "cell_type": "markdown",
   "id": "36ac6d8c-5004-4252-a81e-8a05ede55809",
   "metadata": {},
   "source": [
    "#### 6 - Extraire les facteurs"
   ]
  },
  {
   "cell_type": "code",
   "execution_count": null,
   "id": "7ddbebe5-edd1-4897-9c00-b7b74cc2468b",
   "metadata": {},
   "outputs": [],
   "source": []
  },
  {
   "cell_type": "markdown",
   "id": "c163c61b-7dac-41ad-876e-688bd418d359",
   "metadata": {},
   "source": [
    "#### 7 - Tracer le cercle des corrélation dans le premier plan factoriel pour les variables"
   ]
  },
  {
   "cell_type": "code",
   "execution_count": null,
   "id": "043f93bd-c8c2-41fc-ac97-eff8dc81e20c",
   "metadata": {},
   "outputs": [],
   "source": []
  },
  {
   "cell_type": "markdown",
   "id": "9249c6d6-87f0-4f7b-a97b-3fd29fc06516",
   "metadata": {},
   "source": [
    "### Examiner le cercle des corrélation dans le premier plan factoriel pour les variables. "
   ]
  },
  {
   "cell_type": "markdown",
   "id": "1ff1cc28-9442-4d64-aa0a-818f61497f41",
   "metadata": {},
   "source": [
    "#### 8 - Quelles variables sont bien représentées dans ce plan ? Quelle est la variable la moins bien représentée dans ce plan ?"
   ]
  },
  {
   "cell_type": "markdown",
   "id": "d75eda4c-7287-46ae-87b8-062861faeb1e",
   "metadata": {},
   "source": []
  },
  {
   "cell_type": "markdown",
   "id": "32c1a4ab-f599-4b4e-9bfd-c18fa8f04be3",
   "metadata": {},
   "source": [
    "#### 9 - Que pensez vous des positions relatives des variables longitude et lattitude dans ce plan ?"
   ]
  },
  {
   "cell_type": "markdown",
   "id": "c58108da-1dc7-4ba9-8ea9-233accc64988",
   "metadata": {},
   "source": []
  },
  {
   "cell_type": "markdown",
   "id": "396fa367-7b72-433e-8ce1-bd6ec459d405",
   "metadata": {},
   "source": [
    "#### 10 - Que pensez vous des positions relatives des variables longitude et amplitude dans ce plan ?"
   ]
  },
  {
   "cell_type": "markdown",
   "id": "f60d98bd-eb62-4025-86b3-bc1b520506d3",
   "metadata": {},
   "source": []
  },
  {
   "cell_type": "markdown",
   "id": "0a224e75-5802-46d7-88e3-d0fd88067395",
   "metadata": {},
   "source": [
    "#### 11 - Quelles sont les variables qui contribuent le plus au premier axe factoriel ? Comment peut-on interpréter cet axe ? "
   ]
  },
  {
   "cell_type": "code",
   "execution_count": null,
   "id": "d8889393-177f-4149-803a-12b54958b8e5",
   "metadata": {},
   "outputs": [],
   "source": []
  },
  {
   "cell_type": "markdown",
   "id": "77e9289f-591f-4fff-9263-d044e9faa022",
   "metadata": {},
   "source": []
  },
  {
   "cell_type": "markdown",
   "id": "15d4c9d4-dcbb-4bb2-850f-419630044aac",
   "metadata": {},
   "source": [
    "#### 12 -  Quelles sont les variables qui contribuent le plus au deuxième axe factoriel ? Comment peut-on interpréter cet axe ? "
   ]
  },
  {
   "cell_type": "code",
   "execution_count": null,
   "id": "daacf270-aab8-40d7-b049-23e53351dd57",
   "metadata": {},
   "outputs": [],
   "source": []
  },
  {
   "cell_type": "markdown",
   "id": "2c87d2aa-eafe-40cf-9b14-3edf2df54bbb",
   "metadata": {},
   "source": []
  },
  {
   "cell_type": "markdown",
   "id": "293f13bf-df54-4a07-b407-a9a162d0438c",
   "metadata": {},
   "source": [
    "#### 13 - Quelle sont les corrélations entre variables de température mensuelle dans le plan ? Comment l'interpréter ?"
   ]
  },
  {
   "cell_type": "markdown",
   "id": "aa93e672-0f2f-4b4c-b918-7ee7f290f812",
   "metadata": {},
   "source": []
  },
  {
   "cell_type": "markdown",
   "id": "014a0934-db29-43bd-b675-94f19cc99797",
   "metadata": {},
   "source": [
    "#### 14 - Extraire les composantes principales"
   ]
  },
  {
   "cell_type": "code",
   "execution_count": null,
   "id": "e7c9ac28-b557-4180-97f6-599fd61b7702",
   "metadata": {},
   "outputs": [],
   "source": []
  },
  {
   "cell_type": "markdown",
   "id": "8aa39deb-dfaf-46e4-9a29-f4cca8a7be5d",
   "metadata": {},
   "source": [
    "#### 15 - Tracer le nuage de point des individus projetés dans le premier plan factoriel."
   ]
  },
  {
   "cell_type": "code",
   "execution_count": null,
   "id": "1d797d67-0b33-4d85-aa99-de772551e10f",
   "metadata": {},
   "outputs": [],
   "source": []
  },
  {
   "cell_type": "markdown",
   "id": "15eb41f5-9d38-4247-be64-6a72498a68f6",
   "metadata": {},
   "source": [
    "### Examiner la projection des individus dans le premier plan factoriel"
   ]
  },
  {
   "cell_type": "markdown",
   "id": "7e4bebf1-d270-4d1c-a2c6-5814a393f916",
   "metadata": {},
   "source": [
    "#### 16 - Que peut-on dire des villes qui sont le plus à droite sur premier plan factoriel ?"
   ]
  },
  {
   "cell_type": "markdown",
   "id": "bd07ffd2-a2aa-4f45-b03a-d33a6f66f62e",
   "metadata": {},
   "source": []
  },
  {
   "cell_type": "markdown",
   "id": "c46ce69a-bfea-4926-852d-a1cfd5b31c2c",
   "metadata": {},
   "source": [
    "#### 17 - Que peut-on dire des villes qui sont le plus à gauche sur premier plan factoriel ?"
   ]
  },
  {
   "cell_type": "markdown",
   "id": "e35fbad3-ed03-4745-a74c-67ec945b0149",
   "metadata": {},
   "source": []
  },
  {
   "cell_type": "markdown",
   "id": "bb453505-6399-4e56-ae5f-0ccb95200cfc",
   "metadata": {},
   "source": [
    "#### 18 - Que peut-on dire des villes qui sont le plus en haut sur premier plan factoriel ?"
   ]
  },
  {
   "cell_type": "markdown",
   "id": "d83bb258-6c8a-44a8-bb37-2e8dd96864b2",
   "metadata": {},
   "source": []
  },
  {
   "cell_type": "markdown",
   "id": "ee46b619-9685-4fd0-a2fe-35561977dc2a",
   "metadata": {},
   "source": [
    "#### 19 - Que peut-on dire des villes qui sont le plus en bas sur premier plan factoriel ?"
   ]
  },
  {
   "cell_type": "markdown",
   "id": "33a3b07d-5493-4128-9881-ba5ea6f2625d",
   "metadata": {},
   "source": []
  },
  {
   "cell_type": "markdown",
   "id": "8f830d0b-c4fb-4857-aaee-b1c46a4c7a0b",
   "metadata": {},
   "source": [
    "#### 20 - Que peut-on dire d'Oslo, Stockholm, Berlin, Francfort, Genève, Gènes et Palerme au vu de leur position sur premier plan factoriel ?"
   ]
  },
  {
   "cell_type": "markdown",
   "id": "7bcba786-8829-4de2-922a-3f9304040713",
   "metadata": {},
   "source": []
  }
 ],
 "metadata": {
  "kernelspec": {
   "display_name": "Python 3 (ipykernel)",
   "language": "python",
   "name": "python3"
  },
  "language_info": {
   "codemirror_mode": {
    "name": "ipython",
    "version": 3
   },
   "file_extension": ".py",
   "mimetype": "text/x-python",
   "name": "python",
   "nbconvert_exporter": "python",
   "pygments_lexer": "ipython3",
   "version": "3.9.12"
  }
 },
 "nbformat": 4,
 "nbformat_minor": 5
}
