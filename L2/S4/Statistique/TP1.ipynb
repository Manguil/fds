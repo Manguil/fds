{
 "cells": [
  {
   "cell_type": "markdown",
   "id": "67b6fb8b-3af0-4d4e-bbc8-5dcaa73ec7ef",
   "metadata": {},
   "source": [
    "# Mon premier TP de statistique sous Python\n",
    "$\\LaTeX$"
   ]
  },
  {
   "cell_type": "markdown",
   "id": "af495bfd-31d5-471e-9432-695cccb0825c",
   "metadata": {},
   "source": [
    "## Un peu de revision"
   ]
  },
  {
   "cell_type": "code",
   "execution_count": 1,
   "id": "10412ccc-cb73-4e4d-94c8-0d94d19d3d0c",
   "metadata": {},
   "outputs": [],
   "source": [
    "from math import sqrt"
   ]
  },
  {
   "cell_type": "code",
   "execution_count": 2,
   "id": "1372133b-dc2e-4b7d-890c-a6aa8d97a902",
   "metadata": {},
   "outputs": [],
   "source": [
    "def factorielle(n):\n",
    "    if n == 0 or n == 1:\n",
    "        return 1\n",
    "    else :\n",
    "        return n*factorielle(n-1)"
   ]
  },
  {
   "cell_type": "code",
   "execution_count": 3,
   "id": "690fbcd4-a6ae-4ddd-bd6d-5212bb687715",
   "metadata": {},
   "outputs": [
    {
     "data": {
      "text/plain": [
       "6402373705728000"
      ]
     },
     "execution_count": 3,
     "metadata": {},
     "output_type": "execute_result"
    }
   ],
   "source": [
    "factorielle(18)"
   ]
  },
  {
   "cell_type": "code",
   "execution_count": 4,
   "id": "105aa911-db59-40ce-a172-68dfc4329167",
   "metadata": {},
   "outputs": [
    {
     "name": "stdout",
     "output_type": "stream",
     "text": [
      "1\n",
      "3\n",
      "9\n",
      "27\n",
      "81\n",
      "243\n"
     ]
    }
   ],
   "source": [
    "un = 1\n",
    "while un <= 400:\n",
    "    print(un)\n",
    "    un *= 3"
   ]
  },
  {
   "cell_type": "code",
   "execution_count": 8,
   "id": "b93e7636-135f-4166-94fb-ff68463604f6",
   "metadata": {},
   "outputs": [],
   "source": [
    "def racine():\n",
    "    a = float(input(\"a = \"))\n",
    "    b = float(input(\"b = \"))\n",
    "    c = float(input(\"c = \"))\n",
    "    \n",
    "    det = b**2 - 4*a*c\n",
    "    \n",
    "    if det > 0:\n",
    "        nbRacine = 2\n",
    "        racines = [(-b-sqrt(det))/2*a,(-b+sqrt(det))/2*a]\n",
    "    elif det == 0:\n",
    "        nbRacine = 1\n",
    "        racines = [(-b)/2*a]\n",
    "    else:\n",
    "        nbRacine = 0\n",
    "        racines = []\n",
    "        \n",
    "    return nbRacine, racines"
   ]
  },
  {
   "cell_type": "code",
   "execution_count": 9,
   "id": "031e2ea0-890b-4ea0-930e-f673dc732a72",
   "metadata": {},
   "outputs": [
    {
     "name": "stdin",
     "output_type": "stream",
     "text": [
      "a =  1\n",
      "b =  2\n",
      "c =  -5\n"
     ]
    },
    {
     "name": "stdout",
     "output_type": "stream",
     "text": [
      "il y a 2 racine et sont [-3.449489742783178, 1.4494897427831779]\n"
     ]
    }
   ],
   "source": [
    "nbRacine, racines = racine()\n",
    "print(f\"il y a {nbRacine} racine et sont {racines}\")"
   ]
  },
  {
   "cell_type": "markdown",
   "id": "4c188893-834a-4481-a632-9516b1aa02a3",
   "metadata": {},
   "source": [
    "## Exercice sur les vecteurs"
   ]
  },
  {
   "cell_type": "code",
   "execution_count": 10,
   "id": "14dedc43-3cd6-4c49-9c44-1a4dac521f61",
   "metadata": {},
   "outputs": [],
   "source": [
    "import numpy as np"
   ]
  },
  {
   "cell_type": "code",
   "execution_count": 11,
   "id": "edab1b89-64af-49b6-a175-252d140e2e98",
   "metadata": {},
   "outputs": [],
   "source": [
    "A1 = np . array ([ [1,3,4,1],\n",
    "                   [1,1,1,9],\n",
    "                   [0,0,1,np.pi]])"
   ]
  },
  {
   "cell_type": "code",
   "execution_count": 20,
   "id": "f7069a08-7dd2-427f-a505-3e34008f14cb",
   "metadata": {},
   "outputs": [
    {
     "data": {
      "text/plain": [
       "array([[4.        , 1.        ],\n",
       "       [1.        , 9.        ],\n",
       "       [1.        , 3.14159265]])"
      ]
     },
     "execution_count": 20,
     "metadata": {},
     "output_type": "execute_result"
    }
   ],
   "source": [
    "A1[0:3,2:4]"
   ]
  },
  {
   "cell_type": "raw",
   "id": "6793c2d8-7079-4e21-86cc-6b715d3d5583",
   "metadata": {},
   "source": [
    "Exercice 7\n",
    "Créer un vecteur de longueur 10 dont les coordonnées sont tirées selon la loi uniforme sur [0, 10[.\n",
    "Puis extraire les coordonnées de ce vecteur qui sont inférieures à 5."
   ]
  },
  {
   "cell_type": "code",
   "execution_count": 48,
   "id": "15ec0e0a-f4c9-4e36-bd42-bc6a78788056",
   "metadata": {},
   "outputs": [
    {
     "name": "stdout",
     "output_type": "stream",
     "text": [
      "[2.76538396 2.27802417 2.57662914 3.08450342]\n"
     ]
    }
   ],
   "source": [
    "v = np.random.rand(10,1)*10\n",
    "print(v[v<=5])"
   ]
  },
  {
   "cell_type": "markdown",
   "id": "e180607c-7063-4d16-8826-cdaadf20556a",
   "metadata": {},
   "source": [
    "Exercice 8\n",
    "Pour un vecteur x = (x1, . . . , xn) de taille n, on peut définir plusieurs types de moyennes :\n",
    "— la moyenne arithmétique est la moyenne usuelle\n",
    "\n",
    "$\\bar x_a = \\frac 1 n \\Sigma_{k=1}^n x_k$\n",
    "\n",
    "— la moyenne géométrique\n",
    "\n",
    "$\\bar x_g = (\\Pi_{k=1}^n x_k )^{\\frac 1 n }$\n",
    "\n",
    "— la moyenne harmonique\n",
    "\n",
    "$\\bar x_h = \\frac n {\\Sigma_{k=1}^n \\frac 1 {x_k}}$\n",
    "\n",
    "1– Ecrire une fonction Python qui prend en entrée un vecteur x et renvoie en sortie les trois\n",
    "moyennes  $\\bar x_a$,  $\\bar x_g$,  $\\bar x_h$.\n",
    "\n",
    "2– Tester votre fonction sur quelques exemples."
   ]
  },
  {
   "cell_type": "code",
   "execution_count": 30,
   "id": "187f957a-8ba4-43e9-84c7-c2db07583fc1",
   "metadata": {},
   "outputs": [
    {
     "data": {
      "text/plain": [
       "4.044104888534006"
      ]
     },
     "execution_count": 30,
     "metadata": {},
     "output_type": "execute_result"
    }
   ],
   "source": [
    "np.mean(v)"
   ]
  },
  {
   "cell_type": "code",
   "execution_count": 46,
   "id": "836220b5-47bd-42b2-bf79-8278fe040099",
   "metadata": {},
   "outputs": [],
   "source": [
    "def moyGeo(vect):\n",
    "    moy = 1\n",
    "    for i in range(vect.size):\n",
    "        moy *= vect[i]\n",
    "    return moy/vect.size"
   ]
  },
  {
   "cell_type": "code",
   "execution_count": 51,
   "id": "f597599b-8941-480f-960e-64c2825904d1",
   "metadata": {},
   "outputs": [
    {
     "data": {
      "text/plain": [
       "array([543061.5849498])"
      ]
     },
     "execution_count": 51,
     "metadata": {},
     "output_type": "execute_result"
    }
   ],
   "source": [
    "moyGeo(v)"
   ]
  }
 ],
 "metadata": {
  "kernelspec": {
   "display_name": "Python 3 (ipykernel)",
   "language": "python",
   "name": "python3"
  },
  "language_info": {
   "codemirror_mode": {
    "name": "ipython",
    "version": 3
   },
   "file_extension": ".py",
   "mimetype": "text/x-python",
   "name": "python",
   "nbconvert_exporter": "python",
   "pygments_lexer": "ipython3",
   "version": "3.9.12"
  }
 },
 "nbformat": 4,
 "nbformat_minor": 5
}
