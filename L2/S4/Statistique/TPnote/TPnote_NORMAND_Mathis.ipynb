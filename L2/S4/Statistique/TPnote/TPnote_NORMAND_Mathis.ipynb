{
 "cells": [
  {
   "cell_type": "markdown",
   "id": "91e5c321-a781-4615-b955-a59ee729883a",
   "metadata": {},
   "source": [
    "## TP noté à déposer aux formats .ipynb et .pdf sur moodle jusqu'au mardi 28 mars 17h"
   ]
  },
  {
   "attachments": {},
   "cell_type": "markdown",
   "id": "ea22ca2b-5f02-4089-bf4f-34e19ff72830",
   "metadata": {},
   "source": [
    "Nom : Normand"
   ]
  },
  {
   "attachments": {},
   "cell_type": "markdown",
   "id": "2cf6e2c5-e747-4b2b-a2d7-2c4f490ecd2b",
   "metadata": {},
   "source": [
    "Prénom : Mathis"
   ]
  },
  {
   "cell_type": "markdown",
   "id": "e2b5e49e-fac6-4316-a938-6d1da67a9717",
   "metadata": {},
   "source": [
    "Le rapport de TP sous forme d’un fichier .ipynb et d’un fichier .pdf sera déposé sur moodle. Ces fichiers doivent contenir tous vos codes, vos sorties graphiques et/ou numériques si pertinentes et les commentaires de vos sorties. vOus pouvez rajouter autant de cellules que vous le souhaitez, que ce soient des cellules de codes ou de texte (Markdown).\n",
    "\n",
    "Le but de ce TP est de faire une analyse descriptive d’un jeu de données des résultats de l'épreuve d'heptathlon féminin aux Jeux Olympiques de Tokyo en 2020. L'heptathlon est une combinaison de 7 épreuves d'athlétisme : 100m haies, saut en hauteur, lancer de poids, 200m, saut en longueur, lancer de javelot et 800m. Pour calculer le score et le classement final, les temps ou longueurs obtenus sont convertis en points. Le fichier hepta.csv contient les points obtenus à chaque épreuve pour chaque participante ainsi que le total.\n",
    "\n",
    "Récupérez le fichier hepta.csv sur la page moodle du cours et sauvegardez-le dans votre répertoire de travail. Vous aurez besoin des librairies suivantes."
   ]
  },
  {
   "cell_type": "code",
   "execution_count": 42,
   "id": "5a7358e2-6bf4-4b73-bfba-9c5500115881",
   "metadata": {},
   "outputs": [],
   "source": [
    "import numpy as np\n",
    "import pandas as pd\n",
    "import matplotlib.pyplot as plt\n",
    "from sklearn.decomposition import PCA \n",
    "from sklearn.preprocessing import StandardScaler\n",
    "from sklearn.linear_model import LinearRegression"
   ]
  },
  {
   "cell_type": "code",
   "execution_count": 43,
   "id": "5cce85a3",
   "metadata": {},
   "outputs": [],
   "source": [
    "def extraireQuantite(tab):\n",
    "    return tab.select_dtypes(include=['float', 'int'])"
   ]
  },
  {
   "cell_type": "markdown",
   "id": "21df5e9d-be29-4065-9767-91ad35a972ce",
   "metadata": {},
   "source": [
    "Importez le jeu de données via la commande"
   ]
  },
  {
   "cell_type": "code",
   "execution_count": 44,
   "id": "c7d8b77e-aa90-4e4a-aaf0-e7258975b69b",
   "metadata": {},
   "outputs": [
    {
     "data": {
      "text/html": [
       "<div>\n",
       "<style scoped>\n",
       "    .dataframe tbody tr th:only-of-type {\n",
       "        vertical-align: middle;\n",
       "    }\n",
       "\n",
       "    .dataframe tbody tr th {\n",
       "        vertical-align: top;\n",
       "    }\n",
       "\n",
       "    .dataframe thead th {\n",
       "        text-align: right;\n",
       "    }\n",
       "</style>\n",
       "<table border=\"1\" class=\"dataframe\">\n",
       "  <thead>\n",
       "    <tr style=\"text-align: right;\">\n",
       "      <th></th>\n",
       "      <th>Prenom</th>\n",
       "      <th>Nom</th>\n",
       "      <th>Pays</th>\n",
       "      <th>Points</th>\n",
       "      <th>100mhaies</th>\n",
       "      <th>Hauteur</th>\n",
       "      <th>Poids</th>\n",
       "      <th>200m</th>\n",
       "      <th>Longueur</th>\n",
       "      <th>Javelot</th>\n",
       "      <th>800m</th>\n",
       "    </tr>\n",
       "  </thead>\n",
       "  <tbody>\n",
       "    <tr>\n",
       "      <th>0</th>\n",
       "      <td>Nafissatou</td>\n",
       "      <td>Thiam</td>\n",
       "      <td>Belgique</td>\n",
       "      <td>6791</td>\n",
       "      <td>1044</td>\n",
       "      <td>1132</td>\n",
       "      <td>849</td>\n",
       "      <td>896</td>\n",
       "      <td>1040</td>\n",
       "      <td>951</td>\n",
       "      <td>879</td>\n",
       "    </tr>\n",
       "    <tr>\n",
       "      <th>1</th>\n",
       "      <td>Anouk</td>\n",
       "      <td>Vetter</td>\n",
       "      <td>Pays-Bas</td>\n",
       "      <td>6689</td>\n",
       "      <td>1111</td>\n",
       "      <td>978</td>\n",
       "      <td>880</td>\n",
       "      <td>999</td>\n",
       "      <td>997</td>\n",
       "      <td>883</td>\n",
       "      <td>841</td>\n",
       "    </tr>\n",
       "    <tr>\n",
       "      <th>2</th>\n",
       "      <td>Emma</td>\n",
       "      <td>Oosterwegel</td>\n",
       "      <td>Pays-Bas</td>\n",
       "      <td>6590</td>\n",
       "      <td>1071</td>\n",
       "      <td>978</td>\n",
       "      <td>746</td>\n",
       "      <td>957</td>\n",
       "      <td>940</td>\n",
       "      <td>949</td>\n",
       "      <td>949</td>\n",
       "    </tr>\n",
       "    <tr>\n",
       "      <th>3</th>\n",
       "      <td>Noor</td>\n",
       "      <td>Vidts</td>\n",
       "      <td>Belgique</td>\n",
       "      <td>6571</td>\n",
       "      <td>1099</td>\n",
       "      <td>1016</td>\n",
       "      <td>816</td>\n",
       "      <td>1010</td>\n",
       "      <td>949</td>\n",
       "      <td>702</td>\n",
       "      <td>979</td>\n",
       "    </tr>\n",
       "    <tr>\n",
       "      <th>4</th>\n",
       "      <td>Kendell</td>\n",
       "      <td>Williams</td>\n",
       "      <td>Etats-Unis</td>\n",
       "      <td>6508</td>\n",
       "      <td>1129</td>\n",
       "      <td>978</td>\n",
       "      <td>688</td>\n",
       "      <td>981</td>\n",
       "      <td>1030</td>\n",
       "      <td>836</td>\n",
       "      <td>866</td>\n",
       "    </tr>\n",
       "    <tr>\n",
       "      <th>5</th>\n",
       "      <td>Annie</td>\n",
       "      <td>Kunz</td>\n",
       "      <td>Etats-Unis</td>\n",
       "      <td>6420</td>\n",
       "      <td>1052</td>\n",
       "      <td>978</td>\n",
       "      <td>871</td>\n",
       "      <td>969</td>\n",
       "      <td>949</td>\n",
       "      <td>721</td>\n",
       "      <td>880</td>\n",
       "    </tr>\n",
       "    <tr>\n",
       "      <th>6</th>\n",
       "      <td>Carolin</td>\n",
       "      <td>Schafer</td>\n",
       "      <td>Allemagne</td>\n",
       "      <td>6419</td>\n",
       "      <td>1081</td>\n",
       "      <td>978</td>\n",
       "      <td>793</td>\n",
       "      <td>949</td>\n",
       "      <td>783</td>\n",
       "      <td>940</td>\n",
       "      <td>895</td>\n",
       "    </tr>\n",
       "    <tr>\n",
       "      <th>7</th>\n",
       "      <td>Ivona</td>\n",
       "      <td>Dadic</td>\n",
       "      <td>Autriche</td>\n",
       "      <td>6403</td>\n",
       "      <td>1034</td>\n",
       "      <td>1016</td>\n",
       "      <td>801</td>\n",
       "      <td>949</td>\n",
       "      <td>883</td>\n",
       "      <td>829</td>\n",
       "      <td>891</td>\n",
       "    </tr>\n",
       "    <tr>\n",
       "      <th>8</th>\n",
       "      <td>Erica</td>\n",
       "      <td>Bougard</td>\n",
       "      <td>Etats-Unis</td>\n",
       "      <td>6369</td>\n",
       "      <td>1103</td>\n",
       "      <td>1054</td>\n",
       "      <td>707</td>\n",
       "      <td>973</td>\n",
       "      <td>868</td>\n",
       "      <td>794</td>\n",
       "      <td>880</td>\n",
       "    </tr>\n",
       "    <tr>\n",
       "      <th>9</th>\n",
       "      <td>Zheng</td>\n",
       "      <td>Ninali</td>\n",
       "      <td>Chine</td>\n",
       "      <td>6318</td>\n",
       "      <td>1084</td>\n",
       "      <td>978</td>\n",
       "      <td>764</td>\n",
       "      <td>928</td>\n",
       "      <td>887</td>\n",
       "      <td>717</td>\n",
       "      <td>960</td>\n",
       "    </tr>\n",
       "    <tr>\n",
       "      <th>10</th>\n",
       "      <td>Verena</td>\n",
       "      <td>Mayr</td>\n",
       "      <td>Autriche</td>\n",
       "      <td>6310</td>\n",
       "      <td>1028</td>\n",
       "      <td>941</td>\n",
       "      <td>767</td>\n",
       "      <td>929</td>\n",
       "      <td>887</td>\n",
       "      <td>763</td>\n",
       "      <td>995</td>\n",
       "    </tr>\n",
       "    <tr>\n",
       "      <th>11</th>\n",
       "      <td>Ekaterina</td>\n",
       "      <td>Voronina</td>\n",
       "      <td>Ouzbekistan</td>\n",
       "      <td>6298</td>\n",
       "      <td>952</td>\n",
       "      <td>941</td>\n",
       "      <td>778</td>\n",
       "      <td>917</td>\n",
       "      <td>883</td>\n",
       "      <td>858</td>\n",
       "      <td>969</td>\n",
       "    </tr>\n",
       "    <tr>\n",
       "      <th>12</th>\n",
       "      <td>Xenia</td>\n",
       "      <td>Krizsan</td>\n",
       "      <td>Hongrie</td>\n",
       "      <td>6295</td>\n",
       "      <td>1039</td>\n",
       "      <td>903</td>\n",
       "      <td>779</td>\n",
       "      <td>890</td>\n",
       "      <td>831</td>\n",
       "      <td>872</td>\n",
       "      <td>999</td>\n",
       "    </tr>\n",
       "    <tr>\n",
       "      <th>13</th>\n",
       "      <td>Evelis</td>\n",
       "      <td>Aguilar</td>\n",
       "      <td>Colombie</td>\n",
       "      <td>6214</td>\n",
       "      <td>994</td>\n",
       "      <td>830</td>\n",
       "      <td>755</td>\n",
       "      <td>976</td>\n",
       "      <td>940</td>\n",
       "      <td>761</td>\n",
       "      <td>958</td>\n",
       "    </tr>\n",
       "    <tr>\n",
       "      <th>14</th>\n",
       "      <td>Odile</td>\n",
       "      <td>Ahouanwanou</td>\n",
       "      <td>Benin</td>\n",
       "      <td>6186</td>\n",
       "      <td>1078</td>\n",
       "      <td>903</td>\n",
       "      <td>891</td>\n",
       "      <td>995</td>\n",
       "      <td>871</td>\n",
       "      <td>743</td>\n",
       "      <td>705</td>\n",
       "    </tr>\n",
       "    <tr>\n",
       "      <th>15</th>\n",
       "      <td>Adrianna</td>\n",
       "      <td>Sulek</td>\n",
       "      <td>Pologne</td>\n",
       "      <td>6164</td>\n",
       "      <td>1039</td>\n",
       "      <td>1016</td>\n",
       "      <td>714</td>\n",
       "      <td>965</td>\n",
       "      <td>828</td>\n",
       "      <td>607</td>\n",
       "      <td>995</td>\n",
       "    </tr>\n",
       "    <tr>\n",
       "      <th>16</th>\n",
       "      <td>Maria</td>\n",
       "      <td>Huntington</td>\n",
       "      <td>Finlande</td>\n",
       "      <td>6135</td>\n",
       "      <td>1094</td>\n",
       "      <td>978</td>\n",
       "      <td>694</td>\n",
       "      <td>933</td>\n",
       "      <td>880</td>\n",
       "      <td>723</td>\n",
       "      <td>833</td>\n",
       "    </tr>\n",
       "    <tr>\n",
       "      <th>17</th>\n",
       "      <td>María</td>\n",
       "      <td>Vicente</td>\n",
       "      <td>Espagne</td>\n",
       "      <td>6117</td>\n",
       "      <td>1059</td>\n",
       "      <td>941</td>\n",
       "      <td>707</td>\n",
       "      <td>1029</td>\n",
       "      <td>905</td>\n",
       "      <td>611</td>\n",
       "      <td>865</td>\n",
       "    </tr>\n",
       "    <tr>\n",
       "      <th>18</th>\n",
       "      <td>Vanessa</td>\n",
       "      <td>Rimm</td>\n",
       "      <td>Allemagne</td>\n",
       "      <td>6114</td>\n",
       "      <td>995</td>\n",
       "      <td>941</td>\n",
       "      <td>829</td>\n",
       "      <td>884</td>\n",
       "      <td>831</td>\n",
       "      <td>759</td>\n",
       "      <td>875</td>\n",
       "    </tr>\n",
       "    <tr>\n",
       "      <th>19</th>\n",
       "      <td>Georgia</td>\n",
       "      <td>Ellenwood</td>\n",
       "      <td>Canada</td>\n",
       "      <td>6077</td>\n",
       "      <td>1055</td>\n",
       "      <td>1016</td>\n",
       "      <td>687</td>\n",
       "      <td>932</td>\n",
       "      <td>807</td>\n",
       "      <td>746</td>\n",
       "      <td>834</td>\n",
       "    </tr>\n",
       "  </tbody>\n",
       "</table>\n",
       "</div>"
      ],
      "text/plain": [
       "        Prenom          Nom         Pays  Points  100mhaies  Hauteur  Poids  \\\n",
       "0   Nafissatou        Thiam     Belgique    6791       1044     1132    849   \n",
       "1        Anouk       Vetter     Pays-Bas    6689       1111      978    880   \n",
       "2         Emma  Oosterwegel     Pays-Bas    6590       1071      978    746   \n",
       "3         Noor        Vidts     Belgique    6571       1099     1016    816   \n",
       "4      Kendell     Williams   Etats-Unis    6508       1129      978    688   \n",
       "5        Annie         Kunz   Etats-Unis    6420       1052      978    871   \n",
       "6      Carolin      Schafer    Allemagne    6419       1081      978    793   \n",
       "7        Ivona        Dadic     Autriche    6403       1034     1016    801   \n",
       "8        Erica      Bougard   Etats-Unis    6369       1103     1054    707   \n",
       "9        Zheng       Ninali        Chine    6318       1084      978    764   \n",
       "10      Verena         Mayr     Autriche    6310       1028      941    767   \n",
       "11   Ekaterina     Voronina  Ouzbekistan    6298        952      941    778   \n",
       "12       Xenia      Krizsan      Hongrie    6295       1039      903    779   \n",
       "13      Evelis      Aguilar     Colombie    6214        994      830    755   \n",
       "14       Odile  Ahouanwanou        Benin    6186       1078      903    891   \n",
       "15    Adrianna        Sulek      Pologne    6164       1039     1016    714   \n",
       "16       Maria   Huntington     Finlande    6135       1094      978    694   \n",
       "17       María      Vicente      Espagne    6117       1059      941    707   \n",
       "18     Vanessa         Rimm    Allemagne    6114        995      941    829   \n",
       "19     Georgia    Ellenwood       Canada    6077       1055     1016    687   \n",
       "\n",
       "    200m  Longueur  Javelot  800m  \n",
       "0    896      1040      951   879  \n",
       "1    999       997      883   841  \n",
       "2    957       940      949   949  \n",
       "3   1010       949      702   979  \n",
       "4    981      1030      836   866  \n",
       "5    969       949      721   880  \n",
       "6    949       783      940   895  \n",
       "7    949       883      829   891  \n",
       "8    973       868      794   880  \n",
       "9    928       887      717   960  \n",
       "10   929       887      763   995  \n",
       "11   917       883      858   969  \n",
       "12   890       831      872   999  \n",
       "13   976       940      761   958  \n",
       "14   995       871      743   705  \n",
       "15   965       828      607   995  \n",
       "16   933       880      723   833  \n",
       "17  1029       905      611   865  \n",
       "18   884       831      759   875  \n",
       "19   932       807      746   834  "
      ]
     },
     "execution_count": 44,
     "metadata": {},
     "output_type": "execute_result"
    }
   ],
   "source": [
    "hepta = pd.read_csv('hepta.csv', sep=';',decimal=',')\n",
    "hepta"
   ]
  },
  {
   "cell_type": "markdown",
   "id": "03b3cd48-8f67-4d7e-8875-a976b4f3717b",
   "metadata": {},
   "source": [
    "### Description du jeu de données"
   ]
  },
  {
   "cell_type": "markdown",
   "id": "c4aad62d-a61a-4ad7-9ec3-15fa08c7d7d1",
   "metadata": {},
   "source": [
    "#### 1 - Examiner le jeu de données. Combien y a-t-il d'individus ? Combien de variables quantitatives ? "
   ]
  },
  {
   "cell_type": "code",
   "execution_count": 45,
   "id": "885c62dc-61eb-4399-abea-0467df039c64",
   "metadata": {},
   "outputs": [
    {
     "name": "stdout",
     "output_type": "stream",
     "text": [
      "Il y a 20 individus\n",
      "Il y a 8 variables quantitatives\n"
     ]
    }
   ],
   "source": [
    "print(f\"Il y a {hepta.shape[0]} individus\")\n",
    "print(f\"Il y a {hepta.shape[1]-3} variables quantitatives\")"
   ]
  },
  {
   "cell_type": "markdown",
   "id": "9505682d-3dff-459e-bf9c-b2be44fd75b1",
   "metadata": {},
   "source": [
    "#### 2 - Représenter graphiquement dans la même fenêtre les boîtes à moustaches des 7 épreuves de l'heptathlon."
   ]
  },
  {
   "cell_type": "code",
   "execution_count": 46,
   "id": "24dc241a-519c-43bd-be71-acd94121168f",
   "metadata": {},
   "outputs": [
    {
     "data": {
      "image/png": "[encoded data removed]",
      "text/plain": [
       "<Figure size 432x288 with 1 Axes>"
      ]
     },
     "metadata": {
      "needs_background": "light"
     },
     "output_type": "display_data"
    }
   ],
   "source": [
    "quantiteHepta  = extraireQuantite(hepta).iloc[:,1:]\n",
    "listeEpreuve = list(quantiteHepta.columns.values)\n",
    "\n",
    "plt.boxplot(quantiteHepta, labels = listeEpreuve)\n",
    "plt.title(\"Boite à moustache des 7 epreuves\")\n",
    "plt.show()"
   ]
  },
  {
   "cell_type": "markdown",
   "id": "6a87a67b-5371-4521-8ea1-7d78fa9e7c97",
   "metadata": {},
   "source": [
    "#### 3 - Quelle épreuve a l'étendue maximale ?"
   ]
  },
  {
   "cell_type": "markdown",
   "id": "35a887e8-51f7-4bca-9158-3adf2240f165",
   "metadata": {},
   "source": [
    "grace aux boites a moustache, on voit que l'epreuve avec l'etendue maximale est le javelot"
   ]
  },
  {
   "cell_type": "markdown",
   "id": "b8c00830-f755-4c5e-a68d-cb22f468f4f1",
   "metadata": {},
   "source": [
    "#### 4 - Quelle épreuve a la plus grande moyenne ? la plus grande variance ?"
   ]
  },
  {
   "cell_type": "code",
   "execution_count": 47,
   "id": "69adca55-ce6b-4a17-8764-f9b7e1e31870",
   "metadata": {},
   "outputs": [
    {
     "name": "stdout",
     "output_type": "stream",
     "text": [
      "      100mhaies  Hauteur  Poids    200m  Longueur  Javelot   800m\n",
      "mean    1057.05    974.8  775.8  953.05    899.45   788.25  902.4\n",
      "1913.102631578947 100mhaies\n",
      "3878.589473684211 Hauteur\n",
      "4265.852631578948 Poids\n",
      "1599.1026315789475 200m\n",
      "4955.523684210528 Longueur\n",
      "10095.776315789473 Javelot\n",
      "5410.884210526316 800m\n"
     ]
    }
   ],
   "source": [
    "print(quantiteHepta.describe().iloc[1:2,:])\n",
    "\n",
    "for i in range(len(listeEpreuve)):\n",
    "    print(np.cov(list(quantiteHepta.iloc[0:,i]),list(quantiteHepta.iloc[0:,i]))[0][0], listeEpreuve[i])\n"
   ]
  },
  {
   "cell_type": "markdown",
   "id": "2e538ba9",
   "metadata": {},
   "source": [
    "L'epreuve avec la plus grande moyenne est 100mhaies,\n",
    "L'epreuve avec la plus grande variance est le javelot"
   ]
  },
  {
   "cell_type": "markdown",
   "id": "b8b0ddb3-aff1-46bb-8a1d-b2e190546d47",
   "metadata": {},
   "source": [
    "### Analyse de la liaison entre les épreuves de Lancer de Javelot et du 800m"
   ]
  },
  {
   "cell_type": "markdown",
   "id": "f194cf45-0094-47b5-b100-a0a16197d7a2",
   "metadata": {},
   "source": [
    "#### 5 -  Extraire du tableau de données les variables Javelot et 800m."
   ]
  },
  {
   "cell_type": "code",
   "execution_count": 48,
   "id": "ec018319-9914-4a19-b902-42dba55258c2",
   "metadata": {},
   "outputs": [],
   "source": [
    "javelot = quantiteHepta.iloc[:,5:6]\n",
    "course800m = quantiteHepta.iloc[:,6:7]"
   ]
  },
  {
   "cell_type": "markdown",
   "id": "dfe0c272-abed-4917-b18d-eecd08072e6f",
   "metadata": {},
   "source": [
    "#### 6 - Calculer les coefficients de la droite de régression du score au 800m en fonction du score au Javelot"
   ]
  },
  {
   "cell_type": "code",
   "execution_count": 49,
   "id": "ec3a9126-b6f6-4fc6-ac02-a745a74254eb",
   "metadata": {},
   "outputs": [],
   "source": [
    "reg = LinearRegression().fit(javelot,course800m)"
   ]
  },
  {
   "cell_type": "markdown",
   "id": "c6db998a-1737-41c0-b971-d602fb3265f5",
   "metadata": {},
   "source": [
    "#### 7 - Tracer le nuage des points du score au 800m en fonction du score au Javelot et superposer la droite de régression "
   ]
  },
  {
   "cell_type": "code",
   "execution_count": 50,
   "id": "694907d9-5e26-423e-b681-8caee08164a5",
   "metadata": {},
   "outputs": [
    {
     "data": {
      "image/png": "[encoded data removed]",
      "text/plain": [
       "<Figure size 432x288 with 1 Axes>"
      ]
     },
     "metadata": {
      "needs_background": "light"
     },
     "output_type": "display_data"
    }
   ],
   "source": [
    "b1 = reg.coef_[0][0]\n",
    "b0 = reg.intercept_[0]\n",
    "\n",
    "r = reg.score(javelot,course800m)\n",
    "\n",
    "plt.scatter(javelot,course800m)\n",
    "\n",
    "javelotlist = quantiteHepta.iloc[:,5]\n",
    "Y = javelotlist*b1 + b0\n",
    "plt.plot(javelotlist, Y)\n",
    "\n",
    "plt.title(\"bla\")\n",
    "plt.show()"
   ]
  },
  {
   "cell_type": "markdown",
   "id": "f30d4bc2-1b81-4eb9-92b7-4398af2e788f",
   "metadata": {},
   "source": [
    "#### 8 - Evaluer la qualité de l’ajustement et commenter."
   ]
  },
  {
   "cell_type": "code",
   "execution_count": 51,
   "id": "37eee605-edfe-481c-b94a-20a9d19535c8",
   "metadata": {},
   "outputs": [
    {
     "name": "stdout",
     "output_type": "stream",
     "text": [
      "5.980596309551611e-05\n"
     ]
    }
   ],
   "source": [
    "print(r)"
   ]
  },
  {
   "attachments": {},
   "cell_type": "markdown",
   "id": "b7c56aa2",
   "metadata": {},
   "source": [
    "comme r est loin de 1, donc la qualité de l'ajustement est treès mauvais"
   ]
  },
  {
   "cell_type": "markdown",
   "id": "6fe7b873-4694-4459-ad24-5592b8a271b9",
   "metadata": {},
   "source": [
    "### Analyse en composante principale"
   ]
  },
  {
   "cell_type": "markdown",
   "id": "0f3550bf-58ae-44ac-b7f2-8e067a64b97d",
   "metadata": {},
   "source": [
    "#### 9 - Extraire le tableau des score des 7 épreuves (sans le score total), centrer et réduire les données et lancer l'ACP"
   ]
  },
  {
   "cell_type": "code",
   "execution_count": 52,
   "id": "e8503f4d-6b89-4cc7-9286-19b2228d9371",
   "metadata": {},
   "outputs": [],
   "source": [
    "scaler = StandardScaler()\n",
    "scaler.fit(quantiteHepta)\n",
    "Z = scaler.transform(quantiteHepta)\n",
    "\n",
    "pca = PCA(n_components = 7)\n",
    "\n",
    "pca.fit(Z)\n",
    "\n",
    "acp = pca.fit_transform(Z)"
   ]
  },
  {
   "cell_type": "markdown",
   "id": "1b2d5ca6-bd75-4c0f-973c-4180491d238f",
   "metadata": {},
   "source": [
    "#### 10 - Examiner les valeurs propres. Quel est le pourcentage de variance expliquée par les deux premiers axes ? Combien d'axes faudrait-il garder pour expliquer 90% de la variabilité des données ?"
   ]
  },
  {
   "cell_type": "code",
   "execution_count": 53,
   "id": "299fcf03-8018-4ebf-b8a6-618d96bd8215",
   "metadata": {},
   "outputs": [
    {
     "name": "stdout",
     "output_type": "stream",
     "text": [
      "les valeurs propres sont [2.00522286 1.61251886 1.1858076  0.91975309 0.6162108  0.41946331\n",
      " 0.24102348]\n",
      "variance expliquée par composante: [0.28646041 0.23035984 0.16940109 0.1313933  0.08803011 0.05992333\n",
      " 0.03443193]\n",
      "variance expliquée cumulée: [2.00522286 3.61774172 4.80354932 5.72330241 6.33951321 6.75897652\n",
      " 7.        ]\n"
     ]
    }
   ],
   "source": [
    "l = np.array(\n",
    "    [ np.var(acp[: ,0]),\n",
    "    np.var(acp[: ,1]),\n",
    "    np.var(acp[: ,2]),\n",
    "    np.var(acp[: ,3]),\n",
    "    np.var(acp[: ,4]),\n",
    "    np.var(acp[: ,5]),\n",
    "    np.var(acp[: ,6])\n",
    "    ]\n",
    ")\n",
    "\n",
    "\n",
    "lp = pca.explained_variance_ratio_\n",
    "print(f\"les valeurs propres sont {l}\")\n",
    "\n",
    "print(f\"variance expliquée par composante: {lp}\")\n",
    "\n",
    "print(f\"variance expliquée cumulée: {np.cumsum(l)}\")"
   ]
  },
  {
   "attachments": {},
   "cell_type": "markdown",
   "id": "39abb9a5-b663-4513-be8c-2f65c6859ce0",
   "metadata": {},
   "source": [
    "Le pourcentage de variance explique par les deux premiers axes est d'environ 52%\n",
    "Il faudrait garder 5 axes pour expliquer 90% de la variabilité des données. Trois valeurs propres dépassent 1."
   ]
  },
  {
   "cell_type": "markdown",
   "id": "cbf706d0-5e29-49d9-8dc8-c572363afa62",
   "metadata": {},
   "source": [
    "#### Dans toute la suite on ne gardera que les deux premiers axes."
   ]
  },
  {
   "cell_type": "markdown",
   "id": "2f899673-a1f6-4304-aab1-d6006ce55d47",
   "metadata": {},
   "source": [
    "#### 11 - Extraire les facteurs"
   ]
  },
  {
   "cell_type": "code",
   "execution_count": 54,
   "id": "aeeb2389-96e6-4a3d-9c31-2e5e5fd8cd4e",
   "metadata": {},
   "outputs": [],
   "source": [
    "Gn = pca.components_\n",
    "\n",
    "G = np.array([ Gn [0 ,:] * np.sqrt(l[0]), Gn[1,:]*np.sqrt(l[1])])"
   ]
  },
  {
   "cell_type": "markdown",
   "id": "74815d0b-a0d5-40fe-9ab8-a7bea64d0201",
   "metadata": {},
   "source": [
    "#### 12 - Tracer le cercle des corrélation dans le premier plan factoriel pour les variables"
   ]
  },
  {
   "cell_type": "code",
   "execution_count": 55,
   "id": "4153c90a-9ccf-47b9-90a5-2eaca2cb7f09",
   "metadata": {},
   "outputs": [
    {
     "data": {
      "image/png": "[encoded data removed]",
      "text/plain": [
       "<Figure size 720x648 with 1 Axes>"
      ]
     },
     "metadata": {
      "needs_background": "light"
     },
     "output_type": "display_data"
    }
   ],
   "source": [
    "fig, ax = plt.subplots(figsize = (10,9))\n",
    "for i in range(0,  Gn.shape[1]):\n",
    "    ax.arrow(0, 0, \n",
    "             G[0, i],\n",
    "             G[1, i],\n",
    "            head_width = 0.05, \n",
    "            head_length = 0.07, \n",
    "            width = 0.01, length_includes_head = 1)\n",
    "    plt.text(G[0, i] - 0.1, \n",
    "             G[1, i] - 0.1,\n",
    "             quantiteHepta.columns[i]\n",
    "            )\n",
    "\n",
    "plt.plot([-1, 1], [0, 0], color = 'grey', ls = '--')\n",
    "plt.plot([0, 0],[-1, 1], color = 'grey', ls = '--')\n",
    "\n",
    "\n",
    "an = np.linspace(0, 2*np.pi, 100)\n",
    "plt.plot(np.cos(an), np.sin(an))\n",
    "plt.axis('equal')\n",
    "pass"
   ]
  },
  {
   "cell_type": "markdown",
   "id": "d2a78ec5-b66b-44d7-8c49-af42fd062097",
   "metadata": {},
   "source": [
    "#### Examiner le cercle des corrélations dans le premier plan factoriel des variables"
   ]
  },
  {
   "cell_type": "markdown",
   "id": "a8f26ffb-e5cf-4492-82e9-92d8bc34a6a8",
   "metadata": {},
   "source": [
    "#### 13 - Commentez les positions respectives des variables 800m et Javelot dans ce plan."
   ]
  },
  {
   "attachments": {},
   "cell_type": "markdown",
   "id": "ba21b782-9b05-4356-8a4a-6f9531041207",
   "metadata": {},
   "source": [
    "comme les vecteurs des deux variables javelot et 800m sont presques orthogonaux, elles sont très peu correllés"
   ]
  },
  {
   "cell_type": "markdown",
   "id": "43a83280-cb9b-4618-bc46-7fec12345da5",
   "metadata": {},
   "source": [
    "#### 14 - Commentez les positions respectives des variables 800m et 100mhaies dans ce plan."
   ]
  },
  {
   "attachments": {},
   "cell_type": "markdown",
   "id": "58d550c4-700b-44f2-9316-77a41d2aac21",
   "metadata": {},
   "source": [
    "Les vecteurs de ces deux variables sont presque opposés.\n",
    "\n",
    "Cela veut dire que les athlètes bons au 800m on plus de chance d'être plus mauvais au 100m haies"
   ]
  },
  {
   "cell_type": "markdown",
   "id": "c2580fe3-88ee-4c63-a068-5689d5e7f58a",
   "metadata": {},
   "source": [
    "#### 15 - Les variables Poids et Hauteur sont-elles bien représentées dans ce plan ?"
   ]
  },
  {
   "attachments": {},
   "cell_type": "markdown",
   "id": "00d700a0-61c1-45f8-af4f-3f8418c19601",
   "metadata": {},
   "source": [
    "Les variables Poids et Hauteur ne sont pas très bien représentées car leur module sur ce plan est environ égal à 1/2"
   ]
  },
  {
   "cell_type": "markdown",
   "id": "556013a8-69d1-4224-864e-2492448b7038",
   "metadata": {},
   "source": [
    "#### 16 - Extraire les composantes principales"
   ]
  },
  {
   "cell_type": "code",
   "execution_count": 56,
   "id": "96ab1658-e9ae-4729-86f7-cd48ceea2d2e",
   "metadata": {},
   "outputs": [],
   "source": [
    "acp = pca.fit_transform(Z)"
   ]
  },
  {
   "cell_type": "markdown",
   "id": "8c604837-96a3-47b2-8cfa-d12eeca2ba58",
   "metadata": {},
   "source": [
    "#### 17 - Tracer le nuage de point des individus projetés dans le premier plan factoriel."
   ]
  },
  {
   "cell_type": "code",
   "execution_count": 57,
   "id": "c46f7a3c-44d9-49ef-8fea-e408c56e27f7",
   "metadata": {},
   "outputs": [
    {
     "data": {
      "image/png": "[encoded data removed]",
      "text/plain": [
       "<Figure size 432x288 with 1 Axes>"
      ]
     },
     "metadata": {
      "needs_background": "light"
     },
     "output_type": "display_data"
    }
   ],
   "source": [
    "fig, ax = plt.subplots()\n",
    "ax.scatter(acp[:, 0], acp[:, 1])\n",
    "for i, label in enumerate(hepta['Prenom']):\n",
    "    ax.text(acp[i, 0] + 0.1, acp[i, 1]+0.1, label, fontsize=7)\n",
    "\n",
    "\n",
    "ax.set_xlabel('axe 1')\n",
    "ax.set_ylabel('axe 2')\n",
    "plt.show()"
   ]
  },
  {
   "cell_type": "markdown",
   "id": "51946492-0095-49fe-ae27-c3e2f9c61cc6",
   "metadata": {},
   "source": [
    "#### Examiner la projection des individus dans le premier plan factoriel"
   ]
  },
  {
   "cell_type": "markdown",
   "id": "ab6898bf-c901-44dd-ac5a-454d2456b725",
   "metadata": {},
   "source": [
    "#### 18 - Commentez la position de Nafissatou Thiam dans le premier plan factoriel."
   ]
  },
  {
   "attachments": {},
   "cell_type": "markdown",
   "id": "899f6307-337b-4109-8019-a12480e3526c",
   "metadata": {},
   "source": [
    "Nafissatou Thiam est très forte au javelot (axe des ordonnées)"
   ]
  },
  {
   "cell_type": "markdown",
   "id": "9ba631c5-262e-49c5-b1e7-fa92de8b9a99",
   "metadata": {},
   "source": [
    "#### 19 - Commentez la position d'Ekaterina Voronina, Xenia Krizsan et Vanessa Rimm dans le premier plan factoriel."
   ]
  },
  {
   "attachments": {},
   "cell_type": "markdown",
   "id": "1364f3d8-104e-4b0a-97ed-79fd67381ec7",
   "metadata": {},
   "source": [
    "Ekaterina Voronina, Xenia Krizsan et Vanessa Rimm sont à droite du graphe et plutot au milieu de l'axe des ordonnées. elles sont donc meilleurs au 800m."
   ]
  },
  {
   "cell_type": "markdown",
   "id": "c92be47c-b4c7-4e41-a79d-75905018b3bd",
   "metadata": {},
   "source": [
    "#### 20 - Commentez la position d'Anouk Vetter dans le premier plan factoriel."
   ]
  },
  {
   "attachments": {},
   "cell_type": "markdown",
   "id": "4bebfc30-d4ad-406e-96ab-0a5a6a5fae40",
   "metadata": {},
   "source": [
    "Anouk Vetter est la plus à gauche de toutes les personnes, elle sera donc la meilleur au 100m haie"
   ]
  },
  {
   "cell_type": "markdown",
   "id": "a25481ca-a265-41af-a0d5-6f5b56c951df",
   "metadata": {},
   "source": [
    "Quand vous avez terminé, sauvegardez votre fichier au format .ipynb et exportez-le au format .pdf. Déposez les deux fichiers sur moodle."
   ]
  }
 ],
 "metadata": {
  "kernelspec": {
   "display_name": "Python 3.10.6 64-bit",
   "language": "python",
   "name": "python3"
  },
  "language_info": {
   "codemirror_mode": {
    "name": "ipython",
    "version": 3
   },
   "file_extension": ".py",
   "mimetype": "text/x-python",
   "name": "python",
   "nbconvert_exporter": "python",
   "pygments_lexer": "ipython3",
   "version": "3.10.6"
  },
  "vscode": {
   "interpreter": {
    "hash": "e7370f93d1d0cde622a1f8e1c04877d8463912d04d973331ad4851f04de6915a"
   }
  }
 },
 "nbformat": 4,
 "nbformat_minor": 5
}
