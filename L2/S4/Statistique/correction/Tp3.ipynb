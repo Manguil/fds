{
 "cells": [
  {
   "cell_type": "markdown",
   "id": "50703141-26eb-4705-9b57-00b3bd5d5156",
   "metadata": {},
   "source": [
    "## TP3"
   ]
  },
  {
   "cell_type": "markdown",
   "id": "7496aef3-9750-417f-ba96-58b57d0bff27",
   "metadata": {},
   "source": [
    "### Regression linéaire à la main"
   ]
  },
  {
   "cell_type": "code",
   "execution_count": 1,
   "id": "6e303a90-d67a-448e-a507-0968a80c42f9",
   "metadata": {},
   "outputs": [],
   "source": [
    "import numpy as np\n",
    "import matplotlib . pyplot as plt\n",
    "\n",
    "time = np.array(range(11))\n",
    "salt = np.array([20, 17.4, 15.5, 13.8, 13.2, 12.3, 11.7, 11.3, 10.8, 10.7, 10.4])\n"
   ]
  },
  {
   "cell_type": "code",
   "execution_count": 2,
   "id": "9d1b163a-24de-4d4d-9957-c32f80192e61",
   "metadata": {},
   "outputs": [],
   "source": [
    "def Var(y):\n",
    "    n = len(y)\n",
    "    return sum((i - np.mean(y))**2 for i in y) / (n-1)\n",
    "\n",
    "def Cov(x,y):\n",
    "    n = len(y)\n",
    "    return sum((y[i] - np.mean(y))*(x[i] - np.mean(x)) for i in range(n)) / (n-1)\n",
    "\n",
    "def computeCoefs(x,y):\n",
    "    B1 = Cov(x,y)/ Var(x)\n",
    "    return (np.mean(y) - (B1 * np.mean(x)),B1)"
   ]
  },
  {
   "cell_type": "code",
   "execution_count": 4,
   "id": "a1331b19-e9e8-4081-a281-fed831526852",
   "metadata": {},
   "outputs": [],
   "source": [
    "def scTot(x, y):\n",
    "    return (len(y)-1) * Var(y)\n",
    "\n",
    "def scReg(x, y):\n",
    "\n",
    "    B0, B1 = computeCoefs(x, y)\n",
    "    yp = B0 + B1*x\n",
    "\n",
    "    return sum(\n",
    "    (yp[i] - np.mean(y))**2\n",
    "    for i in range(len(y)))\n",
    "\n",
    "def DetCoef(x, y):\n",
    "    return (scReg(x,y)) / (scTot(x,y))"
   ]
  },
  {
   "cell_type": "code",
   "execution_count": 7,
   "id": "d11f159d-c613-417b-be74-f926ba0b441b",
   "metadata": {},
   "outputs": [
    {
     "name": "stdout",
     "output_type": "stream",
     "text": [
      "0.8643569434155791\n"
     ]
    },
    {
     "data": {
      "image/png": "[encoded data removed]",
      "text/plain": [
       "<Figure size 432x288 with 1 Axes>"
      ]
     },
     "metadata": {
      "needs_background": "light"
     },
     "output_type": "display_data"
    }
   ],
   "source": [
    "def ex1v1():\n",
    "    x = np.linspace(0,11, 11)\n",
    "\n",
    "    B1, B0 = computeCoefs(time, salt)\n",
    "    y = B0*time + B1\n",
    "\n",
    "    plt.plot(time, salt, '.')\n",
    "    plt.plot(x, y)\n",
    "    print(DetCoef(time, salt))\n",
    "    plt.show()\n",
    "\n",
    "ex1v1()"
   ]
  },
  {
   "cell_type": "code",
   "execution_count": 6,
   "id": "c5cbb56f-4924-4dac-b950-21f6a7c23aa5",
   "metadata": {},
   "outputs": [
    {
     "name": "stdout",
     "output_type": "stream",
     "text": [
      "0.9939047109967369\n"
     ]
    },
    {
     "data": {
      "image/png": "[encoded data removed]",
      "text/plain": [
       "<Figure size 432x288 with 1 Axes>"
      ]
     },
     "metadata": {
      "needs_background": "light"
     },
     "output_type": "display_data"
    }
   ],
   "source": [
    "def ex1v2():\n",
    "    x = np.linspace(0,11, 11)\n",
    "    y = np.log((salt - 10))\n",
    "\n",
    "    B1, B0 = computeCoefs(time, y)\n",
    "    det = B0*time + B1\n",
    "\n",
    "    plt.plot(time, y, '.')\n",
    "    plt.plot(x, det)\n",
    "\n",
    "    print(DetCoef(time, y))\n",
    "    plt.show()\n",
    "\n",
    "ex1v2()"
   ]
  },
  {
   "cell_type": "markdown",
   "id": "41d38fbc-c543-47f0-904c-cecb6ad9dbf4",
   "metadata": {},
   "source": [
    "### 2 Regression lineaire avec Scikit Learn"
   ]
  },
  {
   "cell_type": "code",
   "execution_count": 8,
   "id": "5475b8b0-5e38-4540-821b-c033b4ad0337",
   "metadata": {},
   "outputs": [],
   "source": [
    "import pandas as pd\n",
    "from sklearn.linear_model import LinearRegression"
   ]
  },
  {
   "cell_type": "code",
   "execution_count": 10,
   "id": "4c8288ab-d1d7-4956-9e46-d99256147052",
   "metadata": {},
   "outputs": [
    {
     "name": "stdout",
     "output_type": "stream",
     "text": [
      "          maxO3    T9   T12   T15  Ne9  Ne12  Ne15     Vx9    Vx12    Vx15  \\\n",
      "20010601     87  15.6  18.5  18.4    4     4     8  0.6946 -1.7101 -0.6946   \n",
      "20010602     82  17.0  18.4  17.7    5     5     7 -4.3301 -4.0000 -3.0000   \n",
      "20010603     92  15.3  17.6  19.5    2     5     4  2.9544  1.8794  0.5209   \n",
      "20010604    114  16.2  19.7  22.5    1     1     0  0.9848  0.3473 -0.1736   \n",
      "20010605     94  17.4  20.5  20.4    8     8     7 -0.5000 -2.9544 -4.3301   \n",
      "...         ...   ...   ...   ...  ...   ...   ...     ...     ...     ...   \n",
      "20010925     84  13.3  17.7  17.8    3     5     6  0.0000 -1.0000 -1.2856   \n",
      "20010927     77  16.2  20.8  22.1    6     5     5 -0.6946 -2.0000 -1.3681   \n",
      "20010928     99  16.9  23.0  22.6    6     4     7  1.5000  0.8682  0.8682   \n",
      "20010929     83  16.9  19.8  22.1    6     5     3 -4.0000 -3.7588 -4.0000   \n",
      "20010930     70  15.7  18.6  20.7    7     7     7  0.0000 -1.0419 -4.0000   \n",
      "\n",
      "          maxO3v   vent  pluie  \n",
      "20010601      84   Nord    Sec  \n",
      "20010602      87   Nord    Sec  \n",
      "20010603      82    Est    Sec  \n",
      "20010604      92   Nord    Sec  \n",
      "20010605     114  Ouest    Sec  \n",
      "...          ...    ...    ...  \n",
      "20010925      76    Sud    Sec  \n",
      "20010927      71    Sud  Pluie  \n",
      "20010928      77    Sud    Sec  \n",
      "20010929      99  Ouest  Pluie  \n",
      "20010930      83    Sud    Sec  \n",
      "\n",
      "[112 rows x 13 columns]\n"
     ]
    }
   ],
   "source": [
    "ozone = pd.read_csv('ozone.txt', sep=' ')\n",
    "print(ozone)"
   ]
  },
  {
   "cell_type": "code",
   "execution_count": 13,
   "id": "d37edb2c-7df4-42ba-bb9b-4f5c5eb198e6",
   "metadata": {},
   "outputs": [
    {
     "name": "stdout",
     "output_type": "stream",
     "text": [
      "          maxO3   T12\n",
      "20010601     87  18.5\n",
      "20010602     82  18.4\n",
      "20010603     92  17.6\n",
      "20010604    114  19.7\n",
      "20010605     94  20.5\n",
      "...         ...   ...\n",
      "20010925     84  17.7\n",
      "20010927     77  20.8\n",
      "20010928     99  23.0\n",
      "20010929     83  19.8\n",
      "20010930     70  18.6\n",
      "\n",
      "[112 rows x 2 columns]\n"
     ]
    }
   ],
   "source": [
    "cols = pd.DataFrame(ozone, columns=['maxO3','T12'])\n",
    "print(cols)"
   ]
  },
  {
   "cell_type": "code",
   "execution_count": 22,
   "id": "6dce803a-91c4-4ea0-a243-509208347cdd",
   "metadata": {},
   "outputs": [
    {
     "data": {
      "text/html": [
       "<div>\n",
       "<style scoped>\n",
       "    .dataframe tbody tr th:only-of-type {\n",
       "        vertical-align: middle;\n",
       "    }\n",
       "\n",
       "    .dataframe tbody tr th {\n",
       "        vertical-align: top;\n",
       "    }\n",
       "\n",
       "    .dataframe thead th {\n",
       "        text-align: right;\n",
       "    }\n",
       "</style>\n",
       "<table border=\"1\" class=\"dataframe\">\n",
       "  <thead>\n",
       "    <tr style=\"text-align: right;\">\n",
       "      <th></th>\n",
       "      <th>maxO3</th>\n",
       "      <th>T12</th>\n",
       "    </tr>\n",
       "  </thead>\n",
       "  <tbody>\n",
       "    <tr>\n",
       "      <th>count</th>\n",
       "      <td>112.000000</td>\n",
       "      <td>112.000000</td>\n",
       "    </tr>\n",
       "    <tr>\n",
       "      <th>mean</th>\n",
       "      <td>90.303571</td>\n",
       "      <td>21.526786</td>\n",
       "    </tr>\n",
       "    <tr>\n",
       "      <th>std</th>\n",
       "      <td>28.187225</td>\n",
       "      <td>4.042321</td>\n",
       "    </tr>\n",
       "    <tr>\n",
       "      <th>min</th>\n",
       "      <td>42.000000</td>\n",
       "      <td>14.000000</td>\n",
       "    </tr>\n",
       "    <tr>\n",
       "      <th>25%</th>\n",
       "      <td>70.750000</td>\n",
       "      <td>18.600000</td>\n",
       "    </tr>\n",
       "    <tr>\n",
       "      <th>50%</th>\n",
       "      <td>81.500000</td>\n",
       "      <td>20.550000</td>\n",
       "    </tr>\n",
       "    <tr>\n",
       "      <th>75%</th>\n",
       "      <td>106.000000</td>\n",
       "      <td>23.550000</td>\n",
       "    </tr>\n",
       "    <tr>\n",
       "      <th>max</th>\n",
       "      <td>166.000000</td>\n",
       "      <td>33.500000</td>\n",
       "    </tr>\n",
       "  </tbody>\n",
       "</table>\n",
       "</div>"
      ],
      "text/plain": [
       "            maxO3         T12\n",
       "count  112.000000  112.000000\n",
       "mean    90.303571   21.526786\n",
       "std     28.187225    4.042321\n",
       "min     42.000000   14.000000\n",
       "25%     70.750000   18.600000\n",
       "50%     81.500000   20.550000\n",
       "75%    106.000000   23.550000\n",
       "max    166.000000   33.500000"
      ]
     },
     "execution_count": 22,
     "metadata": {},
     "output_type": "execute_result"
    }
   ],
   "source": [
    "cols.describe()"
   ]
  },
  {
   "cell_type": "code",
   "execution_count": 25,
   "id": "16265c0f-e57f-49d6-ac96-2d23d5894c4e",
   "metadata": {},
   "outputs": [
    {
     "data": {
      "image/png": "[encoded data removed]",
      "text/plain": [
       "<Figure size 432x288 with 1 Axes>"
      ]
     },
     "metadata": {
      "needs_background": "light"
     },
     "output_type": "display_data"
    }
   ],
   "source": [
    "plt.boxplot(cols)\n",
    "plt.show()"
   ]
  },
  {
   "cell_type": "code",
   "execution_count": 30,
   "id": "8904f06c-af8e-4364-8664-a3877378e1c9",
   "metadata": {},
   "outputs": [
    {
     "data": {
      "text/plain": [
       "[<matplotlib.lines.Line2D at 0x20fc867c340>]"
      ]
     },
     "execution_count": 30,
     "metadata": {},
     "output_type": "execute_result"
    },
    {
     "data": {
      "image/png": "[encoded data removed]",
      "text/plain": [
       "<Figure size 432x288 with 1 Axes>"
      ]
     },
     "metadata": {
      "needs_background": "light"
     },
     "output_type": "display_data"
    }
   ],
   "source": [
    "plt.plot(cols['T12'],cols['maxO3'],'.')"
   ]
  },
  {
   "cell_type": "code",
   "execution_count": 34,
   "id": "30c55b80-a418-415b-abe7-0f4d74af1f82",
   "metadata": {},
   "outputs": [
    {
     "ename": "TypeError",
     "evalue": "fit() missing 1 required positional argument: 'y'",
     "output_type": "error",
     "traceback": [
      "\u001b[1;31m---------------------------------------------------------------------------\u001b[0m",
      "\u001b[1;31mTypeError\u001b[0m                                 Traceback (most recent call last)",
      "\u001b[1;32m<ipython-input-34-29ef3b7615e7>\u001b[0m in \u001b[0;36m<module>\u001b[1;34m\u001b[0m\n\u001b[0;32m      1\u001b[0m \u001b[0mT12\u001b[0m \u001b[1;33m=\u001b[0m \u001b[0mnp\u001b[0m\u001b[1;33m.\u001b[0m\u001b[0marray\u001b[0m\u001b[1;33m(\u001b[0m\u001b[0mcols\u001b[0m\u001b[1;33m[\u001b[0m\u001b[1;34m'T12'\u001b[0m\u001b[1;33m]\u001b[0m\u001b[1;33m)\u001b[0m\u001b[1;33m.\u001b[0m\u001b[0mreshape\u001b[0m\u001b[1;33m(\u001b[0m\u001b[1;36m1\u001b[0m\u001b[1;33m,\u001b[0m\u001b[1;33m-\u001b[0m\u001b[1;36m1\u001b[0m\u001b[1;33m)\u001b[0m\u001b[1;33m\u001b[0m\u001b[1;33m\u001b[0m\u001b[0m\n\u001b[0;32m      2\u001b[0m \u001b[0mmaxO3\u001b[0m \u001b[1;33m=\u001b[0m \u001b[0mnp\u001b[0m\u001b[1;33m.\u001b[0m\u001b[0marray\u001b[0m\u001b[1;33m(\u001b[0m\u001b[0mcols\u001b[0m\u001b[1;33m[\u001b[0m\u001b[1;34m'maxO3'\u001b[0m\u001b[1;33m]\u001b[0m\u001b[1;33m)\u001b[0m\u001b[1;33m.\u001b[0m\u001b[0mreshape\u001b[0m\u001b[1;33m(\u001b[0m\u001b[1;36m1\u001b[0m\u001b[1;33m,\u001b[0m\u001b[1;33m-\u001b[0m\u001b[1;36m1\u001b[0m\u001b[1;33m)\u001b[0m\u001b[1;33m\u001b[0m\u001b[1;33m\u001b[0m\u001b[0m\n\u001b[1;32m----> 3\u001b[1;33m \u001b[0mLinearRegression\u001b[0m\u001b[1;33m.\u001b[0m\u001b[0mfit\u001b[0m\u001b[1;33m(\u001b[0m\u001b[0mT12\u001b[0m\u001b[1;33m,\u001b[0m\u001b[0mmaxO3\u001b[0m\u001b[1;33m)\u001b[0m\u001b[1;33m\u001b[0m\u001b[1;33m\u001b[0m\u001b[0m\n\u001b[0m",
      "\u001b[1;31mTypeError\u001b[0m: fit() missing 1 required positional argument: 'y'"
     ]
    }
   ],
   "source": [
    "T12 = np.array(cols['T12']).reshape(1,-1)\n",
    "maxO3 = np.array(cols['maxO3']).reshape(1,-1)\n",
    "LinearRegression.fit(T12,maxO3)"
   ]
  },
  {
   "cell_type": "code",
   "execution_count": null,
   "id": "467918db-ec13-456e-b3aa-4679f68a70f3",
   "metadata": {},
   "outputs": [],
   "source": []
  }
 ],
 "metadata": {
  "kernelspec": {
   "display_name": "Python 3.10.6 64-bit",
   "language": "python",
   "name": "python3"
  },
  "language_info": {
   "codemirror_mode": {
    "name": "ipython",
    "version": 3
   },
   "file_extension": ".py",
   "mimetype": "text/x-python",
   "name": "python",
   "nbconvert_exporter": "python",
   "pygments_lexer": "ipython3",
   "version": "3.10.6"
  },
  "vscode": {
   "interpreter": {
    "hash": "e7370f93d1d0cde622a1f8e1c04877d8463912d04d973331ad4851f04de6915a"
   }
  }
 },
 "nbformat": 4,
 "nbformat_minor": 5
}
