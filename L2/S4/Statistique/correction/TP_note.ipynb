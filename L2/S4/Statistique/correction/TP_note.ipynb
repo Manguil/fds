{
 "cells": [
  {
   "cell_type": "markdown",
   "id": "7d8c9365-987b-4121-93c4-c1b865db1b59",
   "metadata": {},
   "source": [
    "## CC tp noté HAX405X"
   ]
  },
  {
   "cell_type": "code",
   "execution_count": 1,
   "id": "c5a256ba-dafb-4429-8b56-3e178b5ca144",
   "metadata": {
    "tags": []
   },
   "outputs": [],
   "source": [
    "import numpy as np\n",
    "import pandas as pd\n",
    "import matplotlib.pyplot as plt\n",
    "from sklearn.decomposition import PCA\n",
    "from sklearn.preprocessing import StandardScaler\n",
    "from sklearn.linear_model import LinearRegression"
   ]
  },
  {
   "cell_type": "code",
   "execution_count": 3,
   "id": "b33c3570-da02-487d-9891-7aa17f1a214c",
   "metadata": {
    "tags": []
   },
   "outputs": [],
   "source": [
    "hepta = pd.read_csv('hepta.csv', sep=';', decimal=',')\n",
    "hepta.describe()"
   ]
  },
  {
   "cell_type": "markdown",
   "id": "cae4924d-9ec9-4db4-95bd-f8448e281a47",
   "metadata": {},
   "source": [
    "Le jeu de données est constitué de X individus et contient Y variables quantitatives."
   ]
  },
  {
   "cell_type": "code",
   "execution_count": null,
   "id": "d8ab919f-3837-4822-985f-e043a66c50f0",
   "metadata": {},
   "outputs": [],
   "source": [
    "quant = hepta.iloc[:,1:-1]\n",
    "quant.boxplot()"
   ]
  },
  {
   "cell_type": "code",
   "execution_count": 4,
   "id": "cd00f039-049d-4119-b753-6147f10fcd7f",
   "metadata": {
    "tags": []
   },
   "outputs": [
    {
     "ename": "SyntaxError",
     "evalue": "unterminated string literal (detected at line 1) (3461216264.py, line 1)",
     "output_type": "error",
     "traceback": [
      "\u001b[0;36m  Cell \u001b[0;32mIn[4], line 1\u001b[0;36m\u001b[0m\n\u001b[0;31m    print(sorted(quant, key=lambda x:quant[x].max()-quant[x].min())[-1] + \" est l'épreuve avec l'étendue maximale)\u001b[0m\n\u001b[0m                                                                          ^\u001b[0m\n\u001b[0;31mSyntaxError\u001b[0m\u001b[0;31m:\u001b[0m unterminated string literal (detected at line 1)\n"
     ]
    }
   ],
   "source": [
    "comps = [ [lambda x:quant[x].max()-quant[x].min(), \"l'étendue maximale\"], [lambda x: quant[x].mean(), \"la plus grande moyenne\"],[lambda x: quant[x].var(ddof=0), \"la plus grande variance\"] ]\n",
    "print(*[sorted(quant, key=f)[-1] + \" est \" + s for f,s in comps], sep='/n')"
   ]
  },
  {
   "cell_type": "markdown",
   "id": "9b15700d-979a-46d9-9413-ec587345f30e",
   "metadata": {},
   "source": [
    "#### Analyse de la liaison entre les épreuves du Lnacer de Javelot et du 800m"
   ]
  },
  {
   "cell_type": "code",
   "execution_count": 1,
   "id": "c4b0d767-f84b-4f51-9753-a94e5c2a9b46",
   "metadata": {},
   "outputs": [
    {
     "ename": "NameError",
     "evalue": "name 'quant' is not defined",
     "output_type": "error",
     "traceback": [
      "\u001b[0;31m---------------------------------------------------------------------------\u001b[0m",
      "\u001b[0;31mNameError\u001b[0m                                 Traceback (most recent call last)",
      "\u001b[0;32m/tmp/ipykernel_862803/18148319.py\u001b[0m in \u001b[0;36m<module>\u001b[0;34m\u001b[0m\n\u001b[0;32m----> 1\u001b[0;31m \u001b[0mjav800m\u001b[0m \u001b[0;34m=\u001b[0m \u001b[0mquant\u001b[0m\u001b[0;34m.\u001b[0m\u001b[0mloc\u001b[0m\u001b[0;34m[\u001b[0m\u001b[0;34m\"Javelot\"\u001b[0m\u001b[0;34m,\u001b[0m\u001b[0;34m\"800m\"\u001b[0m\u001b[0;34m]\u001b[0m\u001b[0;34m\u001b[0m\u001b[0;34m\u001b[0m\u001b[0m\n\u001b[0m\u001b[1;32m      2\u001b[0m \u001b[0mjav800m\u001b[0m\u001b[0;34m.\u001b[0m\u001b[0msort_values\u001b[0m\u001b[0;34m(\u001b[0m\u001b[0;34m'Javelot'\u001b[0m\u001b[0;34m)\u001b[0m\u001b[0;34m\u001b[0m\u001b[0;34m\u001b[0m\u001b[0m\n\u001b[1;32m      3\u001b[0m \u001b[0mx\u001b[0m \u001b[0;34m=\u001b[0m \u001b[0mnp\u001b[0m\u001b[0;34m.\u001b[0m\u001b[0marray\u001b[0m\u001b[0;34m(\u001b[0m\u001b[0mjav800m\u001b[0m\u001b[0;34m[\u001b[0m\u001b[0;34m\"Javelot\"\u001b[0m\u001b[0;34m]\u001b[0m\u001b[0;34m.\u001b[0m\u001b[0mvalues\u001b[0m\u001b[0;34m)\u001b[0m\u001b[0;34m.\u001b[0m\u001b[0mreshape\u001b[0m\u001b[0;34m(\u001b[0m\u001b[0;34m-\u001b[0m\u001b[0;36m1\u001b[0m\u001b[0;34m,\u001b[0m\u001b[0;36m1\u001b[0m\u001b[0;34m)\u001b[0m\u001b[0;34m\u001b[0m\u001b[0;34m\u001b[0m\u001b[0m\n\u001b[1;32m      4\u001b[0m \u001b[0my\u001b[0m \u001b[0;34m=\u001b[0m \u001b[0mnp\u001b[0m\u001b[0;34m.\u001b[0m\u001b[0marray\u001b[0m\u001b[0;34m(\u001b[0m\u001b[0mjav800m\u001b[0m\u001b[0;34m[\u001b[0m\u001b[0;34m\"800m\"\u001b[0m\u001b[0;34m]\u001b[0m\u001b[0;34m.\u001b[0m\u001b[0mvalues\u001b[0m\u001b[0;34m)\u001b[0m\u001b[0;34m.\u001b[0m\u001b[0mreshape\u001b[0m\u001b[0;34m(\u001b[0m\u001b[0;34m-\u001b[0m\u001b[0;36m1\u001b[0m\u001b[0;34m,\u001b[0m\u001b[0;36m1\u001b[0m\u001b[0;34m)\u001b[0m\u001b[0;34m\u001b[0m\u001b[0;34m\u001b[0m\u001b[0m\n\u001b[1;32m      5\u001b[0m \u001b[0mreg\u001b[0m \u001b[0;34m=\u001b[0m \u001b[0mLinearRegression\u001b[0m\u001b[0;34m(\u001b[0m\u001b[0;34m)\u001b[0m\u001b[0;34m.\u001b[0m\u001b[0mfit\u001b[0m\u001b[0;34m(\u001b[0m\u001b[0mx\u001b[0m\u001b[0;34m,\u001b[0m\u001b[0my\u001b[0m\u001b[0;34m)\u001b[0m\u001b[0;34m\u001b[0m\u001b[0;34m\u001b[0m\u001b[0m\n",
      "\u001b[0;31mNameError\u001b[0m: name 'quant' is not defined"
     ]
    }
   ],
   "source": [
    "jav800m = quant.loc[\"Javelot\",\"800m\"]\n",
    "jav800m.sort_values('Javelot')\n",
    "x = np.array(jav800m[\"Javelot\"].values).reshape(-1,1)\n",
    "y = np.array(jav800m[\"800m\"].values).reshape(-1,1)\n",
    "reg = LinearRegression().fit(x,y)\n",
    "\n",
    "b1 = reg.coef_[0][0]\n",
    "b0 = reg.intercept_[0]\n",
    "r = reg.score(x,y)\n",
    "print(b0,b1,r2)\n",
    "plt.scatter(x,y)\n",
    "Y = x*b1 + b0\n",
    "plt.plot(x, Y)"
   ]
  },
  {
   "cell_type": "code",
   "execution_count": null,
   "id": "f0ba1783-6048-4da0-8bfe-8ebb960339f8",
   "metadata": {},
   "outputs": [],
   "source": [
    "print(r)"
   ]
  },
  {
   "cell_type": "markdown",
   "id": "4cd5f9c8-2cbd-4257-9134-0526bb7a8078",
   "metadata": {},
   "source": [
    "r^2 = (variation expliquée)/(variation totale)\n",
    "\n",
    "r permet d'évaluer la qualité de l'ajustement linéaire.\n",
    "\n",
    "Ici r est {proche, loin} de 1 donc ..."
   ]
  },
  {
   "cell_type": "code",
   "execution_count": null,
   "id": "74a79873-858d-445b-9a5d-92c95226064b",
   "metadata": {},
   "outputs": [],
   "source": [
    "perfs = quant.iloc[:,:-1]\n",
    "\n",
    "scaler = StandardScaler()\n",
    "scaler.fit(perfs)\n",
    "Z = scaler.transform(perfs)\n",
    "print(perfs.shape, Z.shape)"
   ]
  },
  {
   "cell_type": "code",
   "execution_count": null,
   "id": "8c166492-88ba-4d7a-8430-f84186897d14",
   "metadata": {},
   "outputs": [],
   "source": [
    "pca = PCA(n_components=7)\n",
    "pca.fit(Z)\n",
    "vp = pca.explained_variance_ratio_*7\n",
    "print(vp)\n",
    "print(np.cumsum(pca.explained_variance_ratio_))"
   ]
  },
  {
   "cell_type": "markdown",
   "id": "c9e60a22-5b79-4b3a-a254-5fc1d2799982",
   "metadata": {},
   "source": [
    "Les deux premiers axes expliquent X% de variance\n",
    "Pour expliquer 90% de la variabilité de données, il faudrait garder X axes"
   ]
  },
  {
   "cell_type": "code",
   "execution_count": null,
   "id": "97952487-5303-497c-9baf-3dd0737ddce8",
   "metadata": {},
   "outputs": [],
   "source": [
    "F = pca.fit_transform(Z)\n",
    "G = np.array(list(map(lambda x: x[0]*np.sqrt(x[1]), zip(pca.components_,l))))"
   ]
  },
  {
   "cell_type": "code",
   "execution_count": null,
   "id": "e4d391fa-6dfc-48d7-b2c2-68896ccd8e6d",
   "metadata": {},
   "outputs": [],
   "source": [
    "x, y = 0,1\n",
    "fig, ax = plt.subplots(figsize=(10, 9))\n",
    "for i in range(0, Gn.shape[1]):\n",
    "    ax.arrow(0,\n",
    "             0,  # la flèche part de l'origine\n",
    "             G[0, i],  \n",
    "             G[1, i],  # et arrive en (G_1i,G_2i)\n",
    "             head_width=0.05,\n",
    "             head_length=0.07,length_includes_head=True)\n",
    "    plt.text(G[0, i] - 0.1,\n",
    "             G[1, i] - 0.1,\n",
    "             hepta.columns[i+1])\n",
    "# affichage des lignes horizontales et verticales\n",
    "plt.plot([-1, 1], [0, 0], color='grey', ls='--')\n",
    "plt.plot([0, 0], [-1, 1], color='grey', ls='--')\n",
    "# nom des axes\n",
    "plt.xlabel('G1')\n",
    "plt.ylabel('G2')\n",
    "plt.title(\"Cercle des corrélations (G{} et G{})\".format(x+1, y+1))\n",
    "an = np.linspace(0, 2 * np.pi, 100)\n",
    "plt.plot(np.cos(an), np.sin(an))  \n",
    "plt.axis('equal')"
   ]
  },
  {
   "cell_type": "markdown",
   "id": "66825ea5-872a-4490-a901-8da8d90b4e5d",
   "metadata": {},
   "source": [
    "Commenter ..."
   ]
  },
  {
   "cell_type": "code",
   "execution_count": 1,
   "id": "15f9c09b-123d-4fdc-b28b-a763941f0d3c",
   "metadata": {
    "tags": []
   },
   "outputs": [
    {
     "ename": "NameError",
     "evalue": "name 'G' is not defined",
     "output_type": "error",
     "traceback": [
      "\u001b[0;31m---------------------------------------------------------------------------\u001b[0m",
      "\u001b[0;31mNameError\u001b[0m                                 Traceback (most recent call last)",
      "Cell \u001b[0;32mIn[1], line 1\u001b[0m\n\u001b[0;32m----> 1\u001b[0m \u001b[38;5;28mprint\u001b[39m(\u001b[43mG\u001b[49m)\n",
      "\u001b[0;31mNameError\u001b[0m: name 'G' is not defined"
     ]
    }
   ],
   "source": [
    "Gsq = G**2\n",
    "Gsq = Gsq[0,:] + Gsq[1,:]\n",
    "print(Gsq)\n",
    "print(*[perfs.columns[i] for i in np.argsort(Gsq)][::-1],sep='\\n')\n",
    "Contrib = (Gn**2)/np.sum(Gn**2, axis=0)\n",
    "print(Contrib.transpose())"
   ]
  },
  {
   "cell_type": "code",
   "execution_count": null,
   "id": "c3cdb202-5905-47ce-9ec4-83ca3e1bb045",
   "metadata": {},
   "outputs": [],
   "source": [
    "fig,axs=plt.subplots(1,figsize=(18,8))\n",
    "# individus\n",
    "axs[0].scatter(F[:,0],F[:,1])\n",
    "for i, label in enumerate(hepta['Noms']):\n",
    "    axs[0].text(F[i,0]+0.1,F[i,1],label,fontsize=10)\n",
    "axs[0].set_xlabel('axe 1')\n",
    "axs[0].set_ylabel('axe 2')\n",
    "axs[1].set_title(\"Individus projetés (F{} et F{})\".format(1, 2))\n",
    "axs[0].grid()\n",
    "axs[0].plot([min(F[:,0]), max(F[:,0])],[0,0], linestyle=\"--\", color='C7')\n",
    "axs[0].plot([0, 0],[min(F[:,1]), max(F[:,1])], linestyle=\"--\", color='C7')"
   ]
  },
  {
   "cell_type": "markdown",
   "id": "93006acd-d22c-4d18-ac21-7de6afeb8234",
   "metadata": {},
   "source": [
    "Commenter"
   ]
  },
  {
   "cell_type": "code",
   "execution_count": null,
   "id": "02dfb4e0-0c34-4b8a-8fe2-5bc624cc3a03",
   "metadata": {},
   "outputs": [],
   "source": []
  }
 ],
 "metadata": {
  "kernelspec": {
   "display_name": "Python 3.10.6 64-bit",
   "language": "python",
   "name": "python3"
  },
  "language_info": {
   "codemirror_mode": {
    "name": "ipython",
    "version": 3
   },
   "file_extension": ".py",
   "mimetype": "text/x-python",
   "name": "python",
   "nbconvert_exporter": "python",
   "pygments_lexer": "ipython3",
   "version": "3.10.6"
  },
  "vscode": {
   "interpreter": {
    "hash": "e7370f93d1d0cde622a1f8e1c04877d8463912d04d973331ad4851f04de6915a"
   }
  }
 },
 "nbformat": 4,
 "nbformat_minor": 5
}
