{
  "metadata": {
    "language_info": {
      "codemirror_mode": {
        "name": "python",
        "version": 3
      },
      "file_extension": ".py",
      "mimetype": "text/x-python",
      "name": "python",
      "nbconvert_exporter": "python",
      "pygments_lexer": "ipython3",
      "version": "3.8"
    },
    "kernelspec": {
      "name": "python",
      "display_name": "Python (Pyodide)",
      "language": "python"
    }
  },
  "nbformat_minor": 4,
  "nbformat": 4,
  "cells": [
    {
      "cell_type": "markdown",
      "source": "${\\bf Exercice 1}$\n\n\nOn cherche la racine x du polynôme $x^3-x-3$\n\n",
      "metadata": {}
    },
    {
      "cell_type": "code",
      "source": "import numpy as np\n\n# Calcul des racines du polynôme\nracines = np.roots([1, 0, -1, -3])\n\nprint(\"Racines du polynôme :\", racines)",
      "metadata": {
        "trusted": true
      },
      "execution_count": 7,
      "outputs": [
        {
          "name": "stdout",
          "text": "Racines du polynôme : [ 1.67169988+0.j         -0.83584994+1.04686932j -0.83584994-1.04686932j]\n",
          "output_type": "stream"
        }
      ]
    },
    {
      "cell_type": "markdown",
      "source": "La racine réelle est 1.6717 qui est donc la valeur de x.",
      "metadata": {}
    },
    {
      "cell_type": "code",
      "source": "import numpy as np\nfrom scipy.optimize import fsolve\n\n# Définition de la fonction f(x)\nf = lambda x: x**3 - x - 3\n\n# Calcul de la racine de la fonction\nracine = fsolve(f, 1)\nprint(racine)",
      "metadata": {
        "trusted": true
      },
      "execution_count": 9,
      "outputs": [
        {
          "name": "stdout",
          "text": "[1.67169988]\n",
          "output_type": "stream"
        }
      ]
    },
    {
      "cell_type": "markdown",
      "source": "1 correspond à une valeur proche de la racine. Vous pouvez choisir d'autres valeurs.\n\n${\\bf Exercice 2}$\n\n\n\n\n\n",
      "metadata": {}
    },
    {
      "cell_type": "code",
      "source": "a=1;\nb=2;\ndef f(x):\n    return x - 0.5 * np.sin(x) - 1\n\nepsilon=10**(-8);\n\nif f(a) * f(b) >= 0:\n    print(\"La fonction ne change pas de signe aux extrémités de l'intervalle\")\n    \nwhile (b - a) > epsilon:\n    m = (a + b) / 2\n    if f(a) * f(m) < 0:\n        b = m\n    else:\n        a = m\n    \nprint(\"la racine appartient à l'intervalle [\",a , \",\" ,b ,\"]\")\n",
      "metadata": {
        "trusted": true
      },
      "execution_count": 13,
      "outputs": [
        {
          "name": "stdout",
          "text": "la racine appartient à l'intervalle [ 1.4987011328339577 , 1.4987011402845383 ]\n",
          "output_type": "stream"
        }
      ]
    },
    {
      "cell_type": "code",
      "source": "import numpy as np\n\ndef f(x):\n    return x - 0.5 * np.sin(x) - 1\n\ndef deriveef(x):\n    return 1 - 0.5 * np.cos(x)\n\na, b = 1, 2\nepsilon = 1e-8\nx2 = [2]\ne = b - a\nk=1\n\nwhile e > epsilon:\n    x2.append(x2[k - 1] - f(x2[k - 1]) / deriveef(x2[k - 1]))#pour ajouter un élément à la liste x2\n    e = abs(x2[k] - x2[k - 1])\n    k +=1\n\nprint(\"les itérées successives avec Newton :\", x2)",
      "metadata": {
        "trusted": true
      },
      "execution_count": 16,
      "outputs": [
        {
          "name": "stdout",
          "text": "les itérées successives avec Newton : [2, 1.5485776954131585, 1.4993295196647092, 1.498701235627276, 1.4987011335178508, 1.4987011335178484]\n",
          "output_type": "stream"
        }
      ]
    },
    {
      "cell_type": "code",
      "source": "import numpy as np\n\ndef f(x):\n    return x - 0.5 * np.sin(x) - 1\n\ndef deriveef(x):\n    return 1 - 0.5 * np.cos(x)\n\na, b = 1, 2\nepsilon = 1e-8\nx3 = [2]\ne3 = [b - a]\nk3 = 0\n\nwhile e3[k3] > epsilon:\n    x3.append(x3[k3] - f(x3[k3]) / deriveef(x3[k3]))\n    e3.append(abs(x3[k3 + 1] - x3[k3]))\n    k3 += 1\n\ny = [e3[i + 1] / e3[i] for i in range(len(e3) - 1)]\nz = [e3[i + 1] / e3[i]**2 for i in range(len(e3) - 1)]\n\n\nprint(\"Le premier rapport prend les valeurs:\", y)\nprint(\"Le second rapport prend les valeurs :\", z)\n\n",
      "metadata": {
        "trusted": true
      },
      "execution_count": 19,
      "outputs": [
        {
          "name": "stdout",
          "text": "Le premier rapport prend les valeurs: [0.4514223045868415, 0.10909557469368526, 0.012757508839360108, 0.00016252111951562705, 2.3920325189253428e-08]\nLe second rapport prend les valeurs : [0.4514223045868415, 0.24167076722877834, 0.25904530767846373, 0.25867459593529135, 0.23426167718656726]\n",
          "output_type": "stream"
        }
      ]
    },
    {
      "cell_type": "markdown",
      "source": " Le premier rapport $\\displaystyle{\\frac{\\vert x_{n+1}-x_{n+2}\\vert}{\\vert x_n-x_{n+1}\\vert}}$ tend vers 0. Pour une méthode de point fixe (ce qui est le cas pour Newton), on a: $\\displaystyle{\\frac{\\vert x_{n+1}-x_{n+2}\\vert}{\\vert x_n-x_{n+1}\\vert}}\\simeq\\displaystyle{\\frac{\\vert x_{n+1}-x^{\\star}\\vert}{\\vert x_n-x^{\\star}\\vert}\\simeq \\vert g'(x^{\\star})\\vert}$. Ainsi $g'(x^{\\star})=0$.\n \n De  plus, le second rapport se stabilise vers 0.25. Or $\\displaystyle{\\frac{\\vert x_{n+1}-x_{n+2}\\vert}{\\vert x_n-x_{n+1}\\vert^2}}\\simeq\\displaystyle{\\frac{\\vert x_{n+1}-x^{\\star}\\vert}{\\vert x_n-x^{\\star}\\vert^2}\\simeq \\frac{g''(x^{\\star})}{2}}$. Donc $g''(x^{\\star})\\neq 0$.\n \n Cela indique que la convergence est quadratique. (ce qui est en effet le cas théoriquement puisque la racine est simple)",
      "metadata": {}
    },
    {
      "cell_type": "code",
      "source": "import numpy as np\n\ndef f(x):\n    return x - 0.5 * np.sin(x) - 1\n\nepsilon = 1e-8\nx4 = [2]\nk = 0\n\nwhile ((f(x4[k] - epsilon) > 0) or (f(x4[k] + epsilon) < 0)):\n    x4.append(1 + 0.5 * np.sin(x4[k]))\n    k += 1\n\nprint(\"Approximation de la solution :\", x4)",
      "metadata": {
        "trusted": true
      },
      "execution_count": 1,
      "outputs": [
        {
          "name": "stdout",
          "text": "Approximation de la solution : [2, 1.454648713412841, 1.4966312226746987, 1.4986255145315202, 1.4986984085700703, 1.4987010353732497, 1.498701129983033]\n",
          "output_type": "stream"
        }
      ]
    },
    {
      "cell_type": "markdown",
      "source": "En supposant que $f(x_k-\\epsilon)\\leq 0$ et $f(x_k+\\epsilon)\\geq 0$ (car f est croissante) et la fonction f étant continue, d'après le théorème\ndes valeurs intermédiaires, on a que f s'annule sur l'intervalle $[x_k-\\epsilon, x_k+\\epsilon]$. Par conséquent $x^{\\star} \\in [x_k-\\epsilon, x_k+\\epsilon]$ et ainsi $\\vert x^{\\star}-x_k\\vert\\leq \\epsilon$.\n\nSi on compare avec le critère d'arrêt basé sur les itérations $\\vert x_{k+1}-x_k\\vert$, on a pour cet exemple une itération supplémentaire:",
      "metadata": {}
    },
    {
      "cell_type": "code",
      "source": "e5=1\nx5=[2]\nk=0\nwhile e5>epsilon:\n    x5.append(1 + 0.5 * np.sin(x5[k]))\n    e5=abs(x5[k]-x5[k-1])\n    k += 1\n\nprint(\"Approximation de la solution :\", x5)\n",
      "metadata": {
        "trusted": true
      },
      "execution_count": 3,
      "outputs": [
        {
          "name": "stdout",
          "text": "Approximation de la solution : [2, 1.454648713412841, 1.4966312226746987, 1.4986255145315202, 1.4986984085700703, 1.4987010353732497, 1.498701129983033, 1.4987011333905371, 1.498701133513263]\n",
          "output_type": "stream"
        }
      ]
    },
    {
      "cell_type": "markdown",
      "source": "${\\bf Exercice 3}$\n\n\n",
      "metadata": {}
    },
    {
      "cell_type": "code",
      "source": "import numpy as np\nimport matplotlib.pyplot as plt\n\nx = np.arange(-1, 5.1, 0.1)\nf = x * np.exp(-x)\n\nplt.plot(x, f)\nplt.grid(True)\nplt.show()",
      "metadata": {
        "trusted": true
      },
      "execution_count": 5,
      "outputs": [
        {
          "output_type": "display_data",
          "data": {
            "text/plain": "<Figure size 640x480 with 1 Axes>",
            "image/png": "[encoded data removed]"
          },
          "metadata": {}
        }
      ]
    },
    {
      "cell_type": "code",
      "source": "import numpy as np\n\n# Définition de la fonction f(x) et sa dérivée\nf = lambda x: x * np.exp(-x)\nderiveef = lambda x: np.exp(-x) - x * np.exp(-x)\n\nx = np.zeros(10)\nx[0] = 1.5\n\nfor i in range(9):\n    x[i+1] = x[i] - f(x[i]) / deriveef(x[i])\n\nprint(\"Approximation de la racine :\", x)",
      "metadata": {
        "trusted": true
      },
      "execution_count": 6,
      "outputs": [
        {
          "name": "stdout",
          "text": "Approximation de la racine : [ 1.5         4.5         5.78571429  6.99466951  8.16148438  9.30112023\n 10.4215859  11.52772515 12.62271243 13.70875086]\n",
          "output_type": "stream"
        }
      ]
    },
    {
      "cell_type": "markdown",
      "source": "C'est un cas où Newton ne fonctionne pas suite à un mauvais choix de $x_0$. L'algorithme\ndiverge.\n\n",
      "metadata": {}
    },
    {
      "cell_type": "code",
      "source": "",
      "metadata": {},
      "execution_count": null,
      "outputs": []
    }
  ]
}