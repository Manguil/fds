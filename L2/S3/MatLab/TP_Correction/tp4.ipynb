{
  "cells": [
    {
      "cell_type": "markdown",
      "metadata": {},
      "source": [
        "${\\bf Exercice 1}$"
      ]
    },
    {
      "cell_type": "code",
      "execution_count": 3,
      "metadata": {
        "trusted": true
      },
      "outputs": [],
      "source": [
        "import numpy as np\n",
        "\n",
        "def f(x):\n",
        "    return (np.sin(x))**2 / x\n",
        "\n",
        "a = 1\n",
        "b = 3\n",
        "h = (b - a) / 5\n",
        "x = np.linspace(a, b, 6)"
      ]
    },
    {
      "cell_type": "markdown",
      "metadata": {},
      "source": [
        "Pour la méthode de Gauss: \n",
        "$$ \\int_1^3 f(x)dx=\\int_{-1}^1 f(2+t)dt\\sim\\frac{5}{9}f\\left(2-\\frac{\\sqrt{15}}{5}\\right)+\\frac{8}{9}f\\left(2\\right)+\\frac{5}{9}f\\left(2+\\frac{\\sqrt{15}}{5}\\right)\n",
        "$$"
      ]
    },
    {
      "cell_type": "code",
      "execution_count": 4,
      "metadata": {
        "trusted": true
      },
      "outputs": [
        {
          "name": "stdout",
          "output_type": "stream",
          "text": [
            "Méthode des rectangles à droite (Ifd) : 0.6505983594549893\n",
            "Méthode des rectangles à gauche (Ifg) : 0.9311724125411088\n",
            "Méthode du trapèze (Iftrap) : 0.790885385998049\n",
            "Méthode de Simpson (Ifsimpson) : 0.7948215209163263\n",
            "Quadrature de Gauss (Igauss) : 0.7946526708765818\n"
          ]
        }
      ],
      "source": [
        "Ifd = h * np.sum(f(x[1:]))\n",
        "Ifg = h * np.sum(f(x[:-1]))\n",
        "Iftrap = h / 2 * np.sum(f(x[:-1]) + f(x[1:]))\n",
        "Ifsimpson = h / 6 * np.sum(f(x[:-1]) + f(x[1:]) + 4 * f((x[:-1] + x[1:]) / 2))\n",
        "\n",
        "Igauss = 5 / 9 * f(2 - np.sqrt(15) / 5) + 8 / 9 * f(2) + 5 / 9 * f(2 + np.sqrt(15) / 5)\n",
        "\n",
        "print(\"Méthode des rectangles à droite (Ifd) :\", Ifd)\n",
        "print(\"Méthode des rectangles à gauche (Ifg) :\", Ifg)\n",
        "print(\"Méthode du trapèze (Iftrap) :\", Iftrap)\n",
        "print(\"Méthode de Simpson (Ifsimpson) :\", Ifsimpson)\n",
        "print(\"Quadrature de Gauss (Igauss) :\", Igauss)"
      ]
    },
    {
      "cell_type": "markdown",
      "metadata": {},
      "source": [
        "${\\bf Exercice 2}$\n"
      ]
    },
    {
      "cell_type": "code",
      "execution_count": 5,
      "metadata": {
        "trusted": true
      },
      "outputs": [],
      "source": [
        "import numpy as np\n",
        "\n",
        "def IMC(f, a, b):# f est la fonction, a est la borne inferieure et b le borne superieur\n",
        "    n=10000\n",
        "    x = a + (b - a) * np.random.rand(n, 1)\n",
        "    imc = (b - a) * np.mean(f(x))\n",
        "    return imc"
      ]
    },
    {
      "cell_type": "code",
      "execution_count": 6,
      "metadata": {
        "trusted": true
      },
      "outputs": [],
      "source": [
        "def f1(x):\n",
        "    r1=57.9*10**6\n",
        "    r2=56.7*10**6\n",
        "    return np.sqrt((r1)**2 *np.sin(x)**2 + (r2)**2 * np.cos(x)**2)"
      ]
    },
    {
      "cell_type": "code",
      "execution_count": 7,
      "metadata": {
        "trusted": true
      },
      "outputs": [
        {
          "name": "stdout",
          "output_type": "stream",
          "text": [
            "IMC =  359988173.7260871\n"
          ]
        }
      ],
      "source": [
        "from math import *\n",
        "    \n",
        "print (\"IMC = \", IMC(f1, 0, 2*pi))"
      ]
    },
    {
      "cell_type": "markdown",
      "metadata": {},
      "source": [
        "Il s'agit de l'orbite de Mercure."
      ]
    },
    {
      "cell_type": "markdown",
      "metadata": {},
      "source": [
        "Pour obtenir la méthode des rectangles, on peut ajouter:"
      ]
    },
    {
      "cell_type": "code",
      "execution_count": 8,
      "metadata": {
        "trusted": true
      },
      "outputs": [
        {
          "name": "stdout",
          "output_type": "stream",
          "text": [
            "IRECT =  229206282765.56906\n"
          ]
        }
      ],
      "source": [
        "n=10000\n",
        "a=0\n",
        "b= 2*pi\n",
        "x2 = np.linspace(a, b, n+1)\n",
        "Irect = h * np.sum(f1(x2[:-1]))  # Somme de l'aire des rectangles à gauche\n",
        "    \n",
        "print (\"IRECT = \", Irect)"
      ]
    },
    {
      "cell_type": "markdown",
      "metadata": {},
      "source": [
        "\n",
        "${\\bf Exercice 3}$\n"
      ]
    },
    {
      "cell_type": "code",
      "execution_count": 9,
      "metadata": {
        "trusted": true
      },
      "outputs": [
        {
          "ename": "ModuleNotFoundError",
          "evalue": "No module named 'matplotlib'",
          "output_type": "error",
          "traceback": [
            "\u001b[1;31m---------------------------------------------------------------------------\u001b[0m",
            "\u001b[1;31mModuleNotFoundError\u001b[0m                       Traceback (most recent call last)",
            "Cell \u001b[1;32mIn[9], line 2\u001b[0m\n\u001b[0;32m      1\u001b[0m \u001b[38;5;28;01mimport\u001b[39;00m \u001b[38;5;21;01mnumpy\u001b[39;00m \u001b[38;5;28;01mas\u001b[39;00m \u001b[38;5;21;01mnp\u001b[39;00m\n\u001b[1;32m----> 2\u001b[0m \u001b[38;5;28;01mimport\u001b[39;00m \u001b[38;5;21;01mmatplotlib\u001b[39;00m\u001b[38;5;21;01m.\u001b[39;00m\u001b[38;5;21;01mpyplot\u001b[39;00m \u001b[38;5;28;01mas\u001b[39;00m \u001b[38;5;21;01mplt\u001b[39;00m\n\u001b[0;32m      4\u001b[0m \u001b[38;5;28;01mdef\u001b[39;00m \u001b[38;5;21mf1\u001b[39m(x):\n\u001b[0;32m      5\u001b[0m     \u001b[38;5;28;01mreturn\u001b[39;00m (\u001b[38;5;241m1\u001b[39m \u001b[38;5;241m+\u001b[39m x\u001b[38;5;241m*\u001b[39m\u001b[38;5;241m*\u001b[39m\u001b[38;5;241m2\u001b[39m) \u001b[38;5;241m*\u001b[39m x\u001b[38;5;241m*\u001b[39m\u001b[38;5;241m*\u001b[39m(\u001b[38;5;241m-\u001b[39m\u001b[38;5;241m3\u001b[39m\u001b[38;5;241m/\u001b[39m\u001b[38;5;241m4\u001b[39m)\n",
            "\u001b[1;31mModuleNotFoundError\u001b[0m: No module named 'matplotlib'"
          ]
        }
      ],
      "source": [
        "import numpy as np\n",
        "import matplotlib.pyplot as plt\n",
        "\n",
        "def f1(x):\n",
        "    return (1 + x**2) * x**(-3/4)\n",
        "\n",
        "def f2(x):\n",
        "    return 4 * (1 + x**8)"
      ]
    },
    {
      "cell_type": "code",
      "execution_count": null,
      "metadata": {
        "trusted": true
      },
      "outputs": [
        {
          "data": {
            "image/png": "[encoded data removed]",
            "text/plain": [
              "<Figure size 640x480 with 1 Axes>"
            ]
          },
          "metadata": {},
          "output_type": "display_data"
        },
        {
          "name": "stdout",
          "output_type": "stream",
          "text": [
            "Pente pour f1 : -0.2471556418517599\n",
            "Pente pour f2 : -1.0042994892704546\n"
          ]
        }
      ],
      "source": [
        "N = np.array([100, 200, 400, 800, 1600])\n",
        "h= np.zeros(len(N))\n",
        "E1 = np.zeros(len(N))\n",
        "E2 = np.zeros(len(N))\n",
        "\n",
        "for i in range(len(N)):\n",
        "    h[i] = 1 / N[i]\n",
        "    x = np.linspace(0, 1, N[i] + 1)\n",
        "    If1 = h[i] * np.sum(f1(x[1:]))\n",
        "    If2 = h[i] * np.sum(f2(x[1:]))\n",
        "    E1[i] = np.abs(If1 - 40 / 9)\n",
        "    E2[i] = np.abs(If2 - 40 / 9)\n",
        "\n",
        "plt.loglog(N, E1, 'b', label='Erreur f1')\n",
        "plt.loglog(N, E2, 'r', label='Erreur f2')\n",
        "\n",
        "p1 = np.polyfit(np.log(N), np.log(E1), 1)\n",
        "p2 = np.polyfit(np.log(N), np.log(E2), 1)\n",
        "pente1 = p1[0]\n",
        "pente2 = p2[0]\n",
        "\n",
        "plt.legend()\n",
        "plt.xlabel('N')\n",
        "plt.ylabel('Erreur absolue')\n",
        "plt.title('Convergence')\n",
        "plt.show()\n",
        "\n",
        "print('Pente pour f1 :', pente1)\n",
        "print('Pente pour f2 :', pente2)\n"
      ]
    },
    {
      "cell_type": "markdown",
      "metadata": {},
      "source": [
        "La convergence est beaucoup plus lente dans le premier cas. On retrouve une convergence\n",
        "d'ordre 1 après changement de variable, ce qui est normal car la fonction à intégrer est de\n",
        "classe C1."
      ]
    }
  ],
  "metadata": {
    "kernelspec": {
      "display_name": "Python 3",
      "language": "python",
      "name": "python3"
    },
    "language_info": {
      "codemirror_mode": {
        "name": "ipython",
        "version": 3
      },
      "file_extension": ".py",
      "mimetype": "text/x-python",
      "name": "python",
      "nbconvert_exporter": "python",
      "pygments_lexer": "ipython3",
      "version": "3.11.6"
    }
  },
  "nbformat": 4,
  "nbformat_minor": 4
}
