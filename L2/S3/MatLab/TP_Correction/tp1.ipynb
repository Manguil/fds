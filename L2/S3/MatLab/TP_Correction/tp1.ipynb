{
  "cells": [
    {
      "cell_type": "markdown",
      "metadata": {},
      "source": [
        "${\\bf Exercice 1  https://chat.geekgpt.org/}$\n",
        "\n",
        "\n",
        "\n"
      ]
    },
    {
      "cell_type": "code",
      "execution_count": 1,
      "metadata": {
        "trusted": true
      },
      "outputs": [
        {
          "name": "stdout",
          "output_type": "stream",
          "text": [
            "9.999999999976694e-05\n",
            "0.0001\n"
          ]
        }
      ],
      "source": [
        "print(4+0.0001-4)\n",
        "print(4-4+0.0001)"
      ]
    },
    {
      "cell_type": "markdown",
      "metadata": {},
      "source": [
        "Nous n'avons pas la commutativité pour la soustraction."
      ]
    },
    {
      "cell_type": "code",
      "execution_count": 2,
      "metadata": {
        "trusted": true
      },
      "outputs": [
        {
          "name": "stdout",
          "output_type": "stream",
          "text": [
            "0.0\n",
            "1.0\n"
          ]
        }
      ],
      "source": [
        "x=10**29\n",
        "y=10**(-9)\n",
        "print(((y+x)-x)/y)\n",
        "print((y+(x-x))/y)"
      ]
    },
    {
      "cell_type": "markdown",
      "metadata": {},
      "source": [
        "On n'a pas l'associativité. On additionne des nombres de grandeurs différentes."
      ]
    },
    {
      "cell_type": "code",
      "execution_count": 3,
      "metadata": {
        "trusted": true
      },
      "outputs": [
        {
          "name": "stdout",
          "output_type": "stream",
          "text": [
            "22.321576767696584\n"
          ]
        }
      ],
      "source": [
        "##print(10**(309)/(9.9)**(309))\n",
        "print((10/9.9)**(309))"
      ]
    },
    {
      "cell_type": "markdown",
      "metadata": {},
      "source": [
        "Dans le premier calcul on a un dépassement de capacité. Alors que si on effectue d'abord le\n",
        "rapport avant d'élever à la puissance, il n y a pas de problème."
      ]
    },
    {
      "cell_type": "markdown",
      "metadata": {},
      "source": [
        "${\\bf Exercice 2}$\n",
        "\n",
        "\n",
        "\n",
        "\n"
      ]
    },
    {
      "cell_type": "code",
      "execution_count": 4,
      "metadata": {
        "trusted": true
      },
      "outputs": [
        {
          "name": "stdout",
          "output_type": "stream",
          "text": [
            "a en binaire : 100010\n",
            "b en binaire : 11011\n",
            "c en binaire : 111101\n",
            "c en décimal : 61\n"
          ]
        }
      ],
      "source": [
        "a = bin(34)[2:] #afin de ne pas avoir la notation 0b qui apparait à chaque fois\n",
        "b = bin(27)[2:]\n",
        "print(\"a en binaire :\", a)\n",
        "print(\"b en binaire :\", b)\n",
        "\n",
        "\n",
        "c = bin(int(a, 2) + int(b, 2))[2:]\n",
        "cdecimal = int(c, 2)\n",
        "\n",
        "\n",
        "print(\"c en binaire :\", c)\n",
        "print(\"c en décimal :\", cdecimal)\n"
      ]
    },
    {
      "cell_type": "markdown",
      "metadata": {},
      "source": [
        "${\\bf Exercice 3}$\n",
        "\n",
        "\n",
        "\n",
        "\n"
      ]
    },
    {
      "cell_type": "code",
      "execution_count": 5,
      "metadata": {
        "trusted": true
      },
      "outputs": [
        {
          "name": "stdout",
          "output_type": "stream",
          "text": [
            "epsilon machine: 2.220446049250313e-16\n"
          ]
        }
      ],
      "source": [
        "epsilon=1;\n",
        "while epsilon+1>1:\n",
        "    epsilon=epsilon/2\n",
        "\n",
        "epsilon=2*epsilon\n",
        "print(\"epsilon machine:\", epsilon)"
      ]
    },
    {
      "cell_type": "markdown",
      "metadata": {},
      "source": [
        "Les valeurs de l'epsilon machine sous python en double et simple précision sont obtenues de la façon suivante:"
      ]
    },
    {
      "cell_type": "code",
      "execution_count": 6,
      "metadata": {
        "trusted": true
      },
      "outputs": [
        {
          "name": "stdout",
          "output_type": "stream",
          "text": [
            "2.220446049250313e-16\n",
            "1.1920929e-07\n"
          ]
        }
      ],
      "source": [
        "import numpy as np\n",
        "\n",
        "print(np.finfo(float).eps)\n",
        "print(np.finfo(np.float32).eps)"
      ]
    },
    {
      "cell_type": "markdown",
      "metadata": {},
      "source": [
        "Si l'on veut améliorer l'algorithme précédent afin de pouvoir le tester en simple et double précision:"
      ]
    },
    {
      "cell_type": "code",
      "execution_count": 7,
      "metadata": {
        "trusted": true
      },
      "outputs": [],
      "source": [
        "def Epsilon(func=float):\n",
        "    EM = func(1)\n",
        "    while func(1)+func(EM) != func(1):\n",
        "        EM = func(EM) / func(2)\n",
        "\n",
        "    EM=func(2)*func(EM)\n",
        "    return EM"
      ]
    },
    {
      "cell_type": "code",
      "execution_count": 8,
      "metadata": {
        "trusted": true
      },
      "outputs": [
        {
          "data": {
            "text/plain": [
              "2.220446049250313e-16"
            ]
          },
          "execution_count": 8,
          "metadata": {},
          "output_type": "execute_result"
        }
      ],
      "source": [
        "import numpy\n",
        "Epsilon(numpy.float64)"
      ]
    },
    {
      "cell_type": "code",
      "execution_count": 9,
      "metadata": {
        "trusted": true
      },
      "outputs": [
        {
          "data": {
            "text/plain": [
              "1.1920929e-07"
            ]
          },
          "execution_count": 9,
          "metadata": {},
          "output_type": "execute_result"
        }
      ],
      "source": [
        "Epsilon(numpy.float32)"
      ]
    },
    {
      "cell_type": "code",
      "execution_count": 10,
      "metadata": {
        "trusted": true
      },
      "outputs": [
        {
          "data": {
            "text/plain": [
              "2.2250738585072014e-308"
            ]
          },
          "execution_count": 10,
          "metadata": {},
          "output_type": "execute_result"
        }
      ],
      "source": [
        "import sys\n",
        "\n",
        "sys.float_info.min"
      ]
    },
    {
      "cell_type": "markdown",
      "metadata": {},
      "source": [
        "renvoie la valeur positive minimale pouvant être représentée en\n",
        "double précision."
      ]
    },
    {
      "cell_type": "markdown",
      "metadata": {},
      "source": [
        "${\\bf Exercice 4}$\n",
        "\n",
        "\n",
        "\n",
        "\n",
        "\n",
        "\n",
        "\n"
      ]
    },
    {
      "cell_type": "code",
      "execution_count": 11,
      "metadata": {
        "trusted": true
      },
      "outputs": [
        {
          "ename": "ModuleNotFoundError",
          "evalue": "No module named 'matplotlib'",
          "output_type": "error",
          "traceback": [
            "\u001b[1;31m---------------------------------------------------------------------------\u001b[0m",
            "\u001b[1;31mModuleNotFoundError\u001b[0m                       Traceback (most recent call last)",
            "Cell \u001b[1;32mIn[11], line 1\u001b[0m\n\u001b[1;32m----> 1\u001b[0m \u001b[38;5;28;01mimport\u001b[39;00m \u001b[38;5;21;01mmatplotlib\u001b[39;00m\u001b[38;5;21;01m.\u001b[39;00m\u001b[38;5;21;01mpyplot\u001b[39;00m \u001b[38;5;28;01mas\u001b[39;00m \u001b[38;5;21;01mplt\u001b[39;00m\n\u001b[0;32m      3\u001b[0m x\u001b[38;5;241m=\u001b[39mnp\u001b[38;5;241m.\u001b[39mlinspace(\u001b[38;5;241m1\u001b[39m\u001b[38;5;241m-\u001b[39m\u001b[38;5;241m2\u001b[39m\u001b[38;5;241m*\u001b[39m\u001b[38;5;241m10\u001b[39m\u001b[38;5;241m*\u001b[39m\u001b[38;5;241m*\u001b[39m(\u001b[38;5;241m-\u001b[39m\u001b[38;5;241m4\u001b[39m),\u001b[38;5;241m1\u001b[39m\u001b[38;5;241m+\u001b[39m\u001b[38;5;241m2\u001b[39m\u001b[38;5;241m*\u001b[39m\u001b[38;5;241m10\u001b[39m\u001b[38;5;241m*\u001b[39m\u001b[38;5;241m*\u001b[39m(\u001b[38;5;241m-\u001b[39m\u001b[38;5;241m4\u001b[39m),\u001b[38;5;241m1000\u001b[39m)\n\u001b[0;32m      4\u001b[0m plt\u001b[38;5;241m.\u001b[39mplot(x,(x\u001b[38;5;241m-\u001b[39m\u001b[38;5;241m1\u001b[39m)\u001b[38;5;241m*\u001b[39m\u001b[38;5;241m*\u001b[39m\u001b[38;5;241m7\u001b[39m) \u001b[38;5;66;03m# graphe de (x-1)**7\u001b[39;00m\n",
            "\u001b[1;31mModuleNotFoundError\u001b[0m: No module named 'matplotlib'"
          ]
        }
      ],
      "source": [
        "import matplotlib.pyplot as plt\n",
        "\n",
        "x=np.linspace(1-2*10**(-4),1+2*10**(-4),1000)\n",
        "plt.plot(x,(x-1)**7) # graphe de (x-1)**7\n",
        "plt.show()"
      ]
    },
    {
      "cell_type": "code",
      "execution_count": null,
      "metadata": {
        "trusted": true
      },
      "outputs": [
        {
          "data": {
            "image/png": "[encoded data removed]",
            "text/plain": [
              "<Figure size 640x480 with 1 Axes>"
            ]
          },
          "metadata": {},
          "output_type": "display_data"
        }
      ],
      "source": [
        "p = [1, -7, 21, -35, 35, -21, 7, -1]\n",
        "poly=np.polyval(p,x)\n",
        "plt.plot(x,poly)\n",
        "plt.show()"
      ]
    },
    {
      "cell_type": "markdown",
      "metadata": {},
      "source": [
        "On a une accumulation catastrophique des erreurs d'arrondi. On le voit bien sur les\n",
        "graphiques et aussi dans le calcul des racines. On devrait obtenir 7 fois la racine 1. Alors qu'on obtient:"
      ]
    },
    {
      "cell_type": "code",
      "execution_count": null,
      "metadata": {
        "trusted": true
      },
      "outputs": [
        {
          "data": {
            "text/plain": [
              "array([1.00936763+0.j        , 1.00585642+0.00732112j,\n",
              "       1.00585642-0.00732112j, 0.99792582+0.00915815j,\n",
              "       0.99792582-0.00915815j, 0.99153395+0.00408409j,\n",
              "       0.99153395-0.00408409j])"
            ]
          },
          "execution_count": 47,
          "metadata": {},
          "output_type": "execute_result"
        }
      ],
      "source": [
        "np.roots(p)"
      ]
    },
    {
      "cell_type": "markdown",
      "metadata": {},
      "source": [
        "${\\bf Exercice 5}$\n",
        "\n",
        "\n",
        "\n",
        "\n",
        "\n",
        "\n",
        "\n",
        "\n",
        "\n"
      ]
    },
    {
      "cell_type": "code",
      "execution_count": null,
      "metadata": {
        "trusted": true
      },
      "outputs": [
        {
          "name": "stdout",
          "output_type": "stream",
          "text": [
            "le calcul direct des racines donne: -0.0009999999999763531 et -3000.0\n",
            "avec roots, les racines sont: [-3.e+03 -1.e-03]\n"
          ]
        }
      ],
      "source": [
        "a=1\n",
        "b=3000.001\n",
        "c=3\n",
        "x1=(-b+np.sqrt(b**2-4*a*c))/(2*a)\n",
        "x2=(-b-np.sqrt(b**2-4*a*c))/(2*a)\n",
        "print(\"le calcul direct des racines donne:\", x1, \"et\", x2)\n",
        "print(\"avec roots, les racines sont:\", np.roots([a, b, c]))\n"
      ]
    },
    {
      "cell_type": "markdown",
      "metadata": {},
      "source": [
        "Les racines exactes sont\n",
        "$x_1 = -0,001$ et $x_2 = -3000$. Pour le calcul de la première racine qui pose problème, l'opération revient à soustraire des nombres très voisins.\n",
        "\n",
        "Pour éviter\n",
        "cela, on peut multiplier $x_1$ par son conjugué et calculer :\n",
        "$$R_1=\\frac{-b+\\sqrt{b^2-4ac}}{2a}\\frac{-b-\\sqrt{b^2-4ac}}{-b-\\sqrt{b^2-4ac}}=\\frac{-2c}{b+\\sqrt{b^2-4ac}}$$\n",
        "On peut également utiliser le fait  que le produit des racines vaut $c/a$."
      ]
    },
    {
      "cell_type": "code",
      "execution_count": null,
      "metadata": {
        "trusted": true
      },
      "outputs": [
        {
          "name": "stdout",
          "output_type": "stream",
          "text": [
            "-0.001\n",
            "-0.001\n"
          ]
        }
      ],
      "source": [
        "print(c/(a*x2))\n",
        "print((-2*c)/(b+np.sqrt(b**2-4*a*c)))"
      ]
    }
  ],
  "metadata": {
    "kernelspec": {
      "display_name": "Python 3",
      "language": "python",
      "name": "python3"
    },
    "language_info": {
      "codemirror_mode": {
        "name": "ipython",
        "version": 3
      },
      "file_extension": ".py",
      "mimetype": "text/x-python",
      "name": "python",
      "nbconvert_exporter": "python",
      "pygments_lexer": "ipython3",
      "version": "3.11.6"
    }
  },
  "nbformat": 4,
  "nbformat_minor": 4
}
